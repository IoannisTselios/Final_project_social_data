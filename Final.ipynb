{
 "cells": [
  {
   "cell_type": "markdown",
   "metadata": {},
   "source": [
    "## Motivation"
   ]
  },
  {
   "cell_type": "markdown",
   "metadata": {},
   "source": [
    "- What is your dataset?\n",
    "- Why did you choose this/these particular dataset(s)?\n",
    "- What was your goal for the end user's experience?"
   ]
  },
  {
   "cell_type": "markdown",
   "metadata": {},
   "source": [
    "This dataset provides a detailed look at shooting incidents in New York from 2006 to 2024, revealing trends and details about these events. It is an important tool for understanding city crime and safety over almost twenty years.\n",
    "\n",
    "#### Dataset Attributes\n",
    " - __Incident Date:__ Captures the exact date each shooting occurred, providing a timeline for analysis.\n",
    " - __Borough:__ Indicates the specific borough within New York where the incident took place, crucial for geographic analysis.\n",
    " - __Incident Time:__ The time at which the incident occurred, valuable for identifying patterns related to time of day or night.\n",
    " - __Victim Count:__ Records the number of individuals impacted in each incident, which helps in understanding the severity.\n",
    " - __Incident Type:__ Describes the nature of the incident, such as robbery or altercation, offering insights into the causes of shootings.\n",
    " - __Perpetrator and Victim Demographics:__ Includes age, gender, and race of those involved, allowing for demographic analysis.\n",
    " - __Location Coordinates:__ Latitude and longitude for mapping and spatial analysis.\n"
   ]
  },
  {
   "cell_type": "markdown",
   "metadata": {},
   "source": [
    "#### __Why This Dataset?__\n",
    "\n",
    "- __Relevance:__ Gun violence remains a critical issue in urban centers, particularly in major cities like New York. By analyzing this dataset, it is possible to identify patterns, trends, and hotspots that can help policymakers and communities understand the scale and nature of the issue.\n",
    "- __Rich Data:__ The dataset is comprehensive and contains demographic and geographic information that can uncover crucial insights. These attributes can help reveal correlations between the nature of incidents and socioeconomic or demographic characteristics.\n",
    "- __Potential for Actionable Insights:__ Understanding patterns and trends can guide resource allocation for policing, identify vulnerable areas or groups, and contribute to policy formulation."
   ]
  },
  {
   "cell_type": "markdown",
   "metadata": {},
   "source": [
    "#### __Goal for the End User Experience:__\n",
    "\n",
    "__The aim is to deliver a clear and data-driven story that empowers stakeholders:__\n",
    "\n",
    "- __Visualize Patterns:__ Interactive visualizations will help users intuitively explore the dataset. They can understand when and where incidents are more frequent and identify recurring patterns.\n",
    "- __Geographical Understanding:__ Maps showing shooting incident locations will help understand spatial distribution, clustering, and high-risk zones.\n",
    "- __Demographic Insights:__ Highlighting data by victim demographics provides insights into the most affected groups."
   ]
  },
  {
   "cell_type": "markdown",
   "metadata": {},
   "source": [
    "# __Basic Stats and Data Cleaning__\n",
    " - Missing Values Analysis:\n",
    "    - Columns with High Missing Values: LOC_CLASSFCTN_DESC, LOCATION_DESC, and LOC_OF_OCCUR_DESC \n",
    "    - PERP_RACE, PERP_SEX, and PERP_AGE_GROUP\n",
    "    - Decision: These columns had significant amounts of missing data. Despite this, they were retained to preserve the overall integrity of the dataset. Removing them would have resulted in losing a large portion of the dataset.\n",
    "\n",
    " - Columns with Low Missing Values:\n",
    "   - Other columns had relatively few missing values.\n",
    "   - Decision: Rows with missing data in these columns were removed to maintain a cleaner dataset.\n",
    "\n",
    " - Rationale:\n",
    "   - Most records had only one or two missing values from the columns with high missing data.\n",
    "   - Conclusion: Retaining these records allowed us to preserve valuable information across other attributes, although the missing columns could not be used for direct analysis."
   ]
  },
  {
   "cell_type": "code",
   "execution_count": 32,
   "metadata": {},
   "outputs": [],
   "source": [
    "import pandas as pd\n",
    "import seaborn as sns\n",
    "import plotly.express as px\n",
    "\n",
    "import folium\n",
    "from folium.plugins import HeatMap\n",
    "from folium.plugins import HeatMapWithTime\n",
    "import numpy as np\n",
    "import matplotlib.pyplot as plt\n",
    "import plotly.graph_objects as go\n",
    "from plotly.subplots import make_subplots\n",
    "import plotly.io as pio\n",
    "import plotly.graph_objects as go\n",
    "\n",
    "\n",
    "\n",
    "# Load the dataset to understand its structure\n",
    "data_path = 'NYPD_Shooting_Incident_Data__Historic__20240410.csv'\n",
    "data = pd.read_csv(data_path)"
   ]
  },
  {
   "cell_type": "code",
   "execution_count": 24,
   "metadata": {},
   "outputs": [
    {
     "data": {
      "text/plain": [
       "INCIDENT_KEY                   0\n",
       "OCCUR_DATE                     0\n",
       "OCCUR_TIME                     0\n",
       "BORO                           0\n",
       "LOC_OF_OCCUR_DESC          25596\n",
       "PRECINCT                       0\n",
       "JURISDICTION_CODE              2\n",
       "LOC_CLASSFCTN_DESC         25596\n",
       "LOCATION_DESC              14977\n",
       "STATISTICAL_MURDER_FLAG        0\n",
       "PERP_AGE_GROUP              9344\n",
       "PERP_SEX                    9310\n",
       "PERP_RACE                   9310\n",
       "VIC_AGE_GROUP                  0\n",
       "VIC_SEX                        0\n",
       "VIC_RACE                       0\n",
       "X_COORD_CD                     0\n",
       "Y_COORD_CD                     0\n",
       "Latitude                      10\n",
       "Longitude                     10\n",
       "Lon_Lat                       10\n",
       "dtype: int64"
      ]
     },
     "execution_count": 24,
     "metadata": {},
     "output_type": "execute_result"
    }
   ],
   "source": [
    "# Calculate the number of missing (null) values in each column\n",
    "missing_values = data.isnull().sum()\n",
    "missing_values"
   ]
  },
  {
   "cell_type": "code",
   "execution_count": 20,
   "metadata": {},
   "outputs": [
    {
     "name": "stderr",
     "output_type": "stream",
     "text": [
      "/var/folders/tx/m38yq8k57gs15658kl2q0c600000gn/T/ipykernel_55239/3528224721.py:8: SettingWithCopyWarning:\n",
      "\n",
      "\n",
      "A value is trying to be set on a copy of a slice from a DataFrame.\n",
      "Try using .loc[row_indexer,col_indexer] = value instead\n",
      "\n",
      "See the caveats in the documentation: https://pandas.pydata.org/pandas-docs/stable/user_guide/indexing.html#returning-a-view-versus-a-copy\n",
      "\n",
      "/var/folders/tx/m38yq8k57gs15658kl2q0c600000gn/T/ipykernel_55239/3528224721.py:9: SettingWithCopyWarning:\n",
      "\n",
      "\n",
      "A value is trying to be set on a copy of a slice from a DataFrame.\n",
      "Try using .loc[row_indexer,col_indexer] = value instead\n",
      "\n",
      "See the caveats in the documentation: https://pandas.pydata.org/pandas-docs/stable/user_guide/indexing.html#returning-a-view-versus-a-copy\n",
      "\n",
      "/var/folders/tx/m38yq8k57gs15658kl2q0c600000gn/T/ipykernel_55239/3528224721.py:10: SettingWithCopyWarning:\n",
      "\n",
      "\n",
      "A value is trying to be set on a copy of a slice from a DataFrame.\n",
      "Try using .loc[row_indexer,col_indexer] = value instead\n",
      "\n",
      "See the caveats in the documentation: https://pandas.pydata.org/pandas-docs/stable/user_guide/indexing.html#returning-a-view-versus-a-copy\n",
      "\n"
     ]
    }
   ],
   "source": [
    "# Dropping rows where JURISDICTION_CODE, Latitude, Longitude, or Lon_Lat have missing values\n",
    "cleaned_data = data.dropna(subset=['JURISDICTION_CODE', 'Latitude', 'Longitude', 'Lon_Lat'])\n",
    "\n",
    "# Check the number of remaining missing values in these columns to confirm the operation\n",
    "remaining_missing = cleaned_data.isnull().sum()\n",
    "\n",
    "# Convert the 'OCCUR_DATE' to datetime format and extract the year\n",
    "cleaned_data['OCCUR_DATE'] = pd.to_datetime(cleaned_data['OCCUR_DATE'])\n",
    "cleaned_data['YEAR'] = cleaned_data['OCCUR_DATE'].dt.year\n",
    "cleaned_data['OCCUR_TIME'] = pd.to_datetime(cleaned_data['OCCUR_TIME'], format='%H:%M:%S').dt.hour\n",
    "\n",
    "# Filter out rows containing any of these unrealistic age groups\n",
    "unrealistic_ages = ['1020', '224', '940', '(null)']\n",
    "cleaned_data = cleaned_data[~cleaned_data['PERP_AGE_GROUP'].isin(unrealistic_ages)]\n",
    "cleaned_data = cleaned_data[cleaned_data['VIC_AGE_GROUP'] != '1022']\n",
    "\n",
    "# Assuming the column name is confirmed to be 'PERP_SEX'\n",
    "cleaned_data = cleaned_data[cleaned_data['PERP_SEX'] != '(null)']\n",
    "incidents_per_year = cleaned_data.groupby('YEAR').size().reset_index(name='Incidents')\n",
    "\n"
   ]
  },
  {
   "cell_type": "code",
   "execution_count": 21,
   "metadata": {},
   "outputs": [],
   "source": [
    "# Continuous color scale: light gray to black\n",
    "continuous_colorscale = [\n",
    "    [0.0, 'rgb(220,220,220)'],  # light gray\n",
    "    [1.0, 'rgb(0,0,0)']        # black\n",
    "]\n",
    "\n",
    "# Discrete color palette: Adding more colors if needed, depending on the number of years\n",
    "discrete_colorscale = [\n",
    "    'rgb(143,188,143)',  # Sea green\n",
    "    'rgb(119,136,153)',  # Light slate gray\n",
    "    'rgb(192,192,192)',  # Silver\n",
    "    'rgb(47,79,79)',     # Dark slate gray\n",
    "    'rgb(105,105,105)',  # Dim gray\n",
    "]\n",
    "\n",
    "year_to_color_2020_2021 = {\n",
    "    2006: 'rgb(105,105,105)',  # Dim gray\n",
    "    2007: 'rgb(105,105,105)',  # Dim gray\n",
    "    2008: 'rgb(105,105,105)',  # Dim gray\n",
    "    2009: 'rgb(105,105,105)',  # Dim gray\n",
    "    2010: 'rgb(105,105,105)',  # Dim gray\n",
    "    2011: 'rgb(105,105,105)',  # Dim gray\n",
    "    2012: 'rgb(105,105,105)',  # Dim gray\n",
    "    2013: 'rgb(105,105,105)',  # Dim gray\n",
    "    2014: 'rgb(105,105,105)',  # Dim gray\n",
    "    2015: 'rgb(105,105,105)',  # Dim gray\n",
    "    2016: 'rgb(105,105,105)',  # Dim gray\n",
    "    2017: 'rgb(105,105,105)',  # Dim gray\n",
    "    2018: 'rgb(105,105,105)',  # Dim gray\n",
    "    2019: 'rgb(105,105,105)',  # Dim gray\n",
    "    2020: 'rgb(93,214,145)', # Bright green\n",
    "    2021: 'rgb(143,188,143)', # Sea green\n",
    "    2022: 'rgb(105,105,105)',  # Dim gray\n",
    "}\n",
    "\n",
    "year_to_color = {\n",
    "    2018: 'rgb(119,136,153)',  # Light slate gray\n",
    "    2019: 'rgb(119,136,192)', # Silver\n",
    "    2020: 'rgb(93,214,145)', # Bright green\n",
    "    2021: 'rgb(143,188,143)', # Sea green\n",
    "    2022: 'rgb(47,79,79)'} # Dark slate gray\n",
    "\n",
    "\n",
    "emphasis_color = 'rgb(255,165,0)'\n",
    "extra_color = '#D4F3CC'"
   ]
  },
  {
   "cell_type": "code",
   "execution_count": 25,
   "metadata": {},
   "outputs": [
    {
     "data": {
      "text/plain": [
       "Index(['INCIDENT_KEY', 'OCCUR_DATE', 'OCCUR_TIME', 'BORO', 'LOC_OF_OCCUR_DESC',\n",
       "       'PRECINCT', 'JURISDICTION_CODE', 'LOC_CLASSFCTN_DESC', 'LOCATION_DESC',\n",
       "       'STATISTICAL_MURDER_FLAG', 'PERP_AGE_GROUP', 'PERP_SEX', 'PERP_RACE',\n",
       "       'VIC_AGE_GROUP', 'VIC_SEX', 'VIC_RACE', 'X_COORD_CD', 'Y_COORD_CD',\n",
       "       'Latitude', 'Longitude', 'Lon_Lat', 'YEAR'],\n",
       "      dtype='object')"
      ]
     },
     "execution_count": 25,
     "metadata": {},
     "output_type": "execute_result"
    }
   ],
   "source": [
    "cleaned_data.columns"
   ]
  },
  {
   "cell_type": "code",
   "execution_count": 26,
   "metadata": {},
   "outputs": [
    {
     "data": {
      "application/vnd.plotly.v1+json": {
       "config": {
        "plotlyServerURL": "https://plot.ly"
       },
       "data": [
        {
         "marker": {
          "color": "rgb(105,105,105)"
         },
         "name": "2006",
         "type": "bar",
         "x": [
          2006
         ],
         "y": [
          2055
         ]
        },
        {
         "marker": {
          "color": "rgb(105,105,105)"
         },
         "name": "2007",
         "type": "bar",
         "x": [
          2007
         ],
         "y": [
          1886
         ]
        },
        {
         "marker": {
          "color": "rgb(105,105,105)"
         },
         "name": "2008",
         "type": "bar",
         "x": [
          2008
         ],
         "y": [
          1959
         ]
        },
        {
         "marker": {
          "color": "rgb(105,105,105)"
         },
         "name": "2009",
         "type": "bar",
         "x": [
          2009
         ],
         "y": [
          1828
         ]
        },
        {
         "marker": {
          "color": "rgb(105,105,105)"
         },
         "name": "2010",
         "type": "bar",
         "x": [
          2010
         ],
         "y": [
          1911
         ]
        },
        {
         "marker": {
          "color": "rgb(105,105,105)"
         },
         "name": "2011",
         "type": "bar",
         "x": [
          2011
         ],
         "y": [
          1939
         ]
        },
        {
         "marker": {
          "color": "rgb(105,105,105)"
         },
         "name": "2012",
         "type": "bar",
         "x": [
          2012
         ],
         "y": [
          1717
         ]
        },
        {
         "marker": {
          "color": "rgb(105,105,105)"
         },
         "name": "2013",
         "type": "bar",
         "x": [
          2013
         ],
         "y": [
          1338
         ]
        },
        {
         "marker": {
          "color": "rgb(105,105,105)"
         },
         "name": "2014",
         "type": "bar",
         "x": [
          2014
         ],
         "y": [
          1464
         ]
        },
        {
         "marker": {
          "color": "rgb(105,105,105)"
         },
         "name": "2015",
         "type": "bar",
         "x": [
          2015
         ],
         "y": [
          1433
         ]
        },
        {
         "marker": {
          "color": "rgb(105,105,105)"
         },
         "name": "2016",
         "type": "bar",
         "x": [
          2016
         ],
         "y": [
          1208
         ]
        },
        {
         "marker": {
          "color": "rgb(105,105,105)"
         },
         "name": "2017",
         "type": "bar",
         "x": [
          2017
         ],
         "y": [
          970
         ]
        },
        {
         "marker": {
          "color": "rgb(105,105,105)"
         },
         "name": "2018",
         "type": "bar",
         "x": [
          2018
         ],
         "y": [
          958
         ]
        },
        {
         "marker": {
          "color": "rgb(105,105,105)"
         },
         "name": "2019",
         "type": "bar",
         "x": [
          2019
         ],
         "y": [
          966
         ]
        },
        {
         "marker": {
          "color": "rgb(93,214,145)"
         },
         "name": "2020",
         "type": "bar",
         "x": [
          2020
         ],
         "y": [
          1948
         ]
        },
        {
         "marker": {
          "color": "rgb(143,188,143)"
         },
         "name": "2021",
         "type": "bar",
         "x": [
          2021
         ],
         "y": [
          2011
         ]
        },
        {
         "marker": {
          "color": "rgb(105,105,105)"
         },
         "name": "2022",
         "type": "bar",
         "x": [
          2022
         ],
         "y": [
          1070
         ]
        },
        {
         "line": {
          "color": "rgb(255,165,0)"
         },
         "mode": "lines",
         "name": "Trend Line",
         "type": "scatter",
         "x": [
          2006,
          2007,
          2008,
          2009,
          2010,
          2011,
          2012,
          2013,
          2014,
          2015,
          2016,
          2017,
          2018,
          2019,
          2020,
          2021,
          2022
         ],
         "y": [
          1941.294117647063,
          1894.669117647063,
          1848.044117647063,
          1801.419117647063,
          1754.794117647063,
          1708.169117647063,
          1661.544117647063,
          1614.919117647063,
          1568.294117647063,
          1521.6691176470777,
          1475.0441176470777,
          1428.4191176470777,
          1381.7941176470777,
          1335.1691176470777,
          1288.5441176470777,
          1241.9191176470777,
          1195.2941176470777
         ]
        }
       ],
       "layout": {
        "font": {
         "color": "white"
        },
        "margin": {
         "b": 20,
         "l": 30,
         "r": 20,
         "t": 60
        },
        "paper_bgcolor": "black",
        "plot_bgcolor": "black",
        "showlegend": false,
        "template": {
         "data": {
          "bar": [
           {
            "error_x": {
             "color": "#2a3f5f"
            },
            "error_y": {
             "color": "#2a3f5f"
            },
            "marker": {
             "line": {
              "color": "#E5ECF6",
              "width": 0.5
             },
             "pattern": {
              "fillmode": "overlay",
              "size": 10,
              "solidity": 0.2
             }
            },
            "type": "bar"
           }
          ],
          "barpolar": [
           {
            "marker": {
             "line": {
              "color": "#E5ECF6",
              "width": 0.5
             },
             "pattern": {
              "fillmode": "overlay",
              "size": 10,
              "solidity": 0.2
             }
            },
            "type": "barpolar"
           }
          ],
          "carpet": [
           {
            "aaxis": {
             "endlinecolor": "#2a3f5f",
             "gridcolor": "white",
             "linecolor": "white",
             "minorgridcolor": "white",
             "startlinecolor": "#2a3f5f"
            },
            "baxis": {
             "endlinecolor": "#2a3f5f",
             "gridcolor": "white",
             "linecolor": "white",
             "minorgridcolor": "white",
             "startlinecolor": "#2a3f5f"
            },
            "type": "carpet"
           }
          ],
          "choropleth": [
           {
            "colorbar": {
             "outlinewidth": 0,
             "ticks": ""
            },
            "type": "choropleth"
           }
          ],
          "contour": [
           {
            "colorbar": {
             "outlinewidth": 0,
             "ticks": ""
            },
            "colorscale": [
             [
              0,
              "#0d0887"
             ],
             [
              0.1111111111111111,
              "#46039f"
             ],
             [
              0.2222222222222222,
              "#7201a8"
             ],
             [
              0.3333333333333333,
              "#9c179e"
             ],
             [
              0.4444444444444444,
              "#bd3786"
             ],
             [
              0.5555555555555556,
              "#d8576b"
             ],
             [
              0.6666666666666666,
              "#ed7953"
             ],
             [
              0.7777777777777778,
              "#fb9f3a"
             ],
             [
              0.8888888888888888,
              "#fdca26"
             ],
             [
              1,
              "#f0f921"
             ]
            ],
            "type": "contour"
           }
          ],
          "contourcarpet": [
           {
            "colorbar": {
             "outlinewidth": 0,
             "ticks": ""
            },
            "type": "contourcarpet"
           }
          ],
          "heatmap": [
           {
            "colorbar": {
             "outlinewidth": 0,
             "ticks": ""
            },
            "colorscale": [
             [
              0,
              "#0d0887"
             ],
             [
              0.1111111111111111,
              "#46039f"
             ],
             [
              0.2222222222222222,
              "#7201a8"
             ],
             [
              0.3333333333333333,
              "#9c179e"
             ],
             [
              0.4444444444444444,
              "#bd3786"
             ],
             [
              0.5555555555555556,
              "#d8576b"
             ],
             [
              0.6666666666666666,
              "#ed7953"
             ],
             [
              0.7777777777777778,
              "#fb9f3a"
             ],
             [
              0.8888888888888888,
              "#fdca26"
             ],
             [
              1,
              "#f0f921"
             ]
            ],
            "type": "heatmap"
           }
          ],
          "heatmapgl": [
           {
            "colorbar": {
             "outlinewidth": 0,
             "ticks": ""
            },
            "colorscale": [
             [
              0,
              "#0d0887"
             ],
             [
              0.1111111111111111,
              "#46039f"
             ],
             [
              0.2222222222222222,
              "#7201a8"
             ],
             [
              0.3333333333333333,
              "#9c179e"
             ],
             [
              0.4444444444444444,
              "#bd3786"
             ],
             [
              0.5555555555555556,
              "#d8576b"
             ],
             [
              0.6666666666666666,
              "#ed7953"
             ],
             [
              0.7777777777777778,
              "#fb9f3a"
             ],
             [
              0.8888888888888888,
              "#fdca26"
             ],
             [
              1,
              "#f0f921"
             ]
            ],
            "type": "heatmapgl"
           }
          ],
          "histogram": [
           {
            "marker": {
             "pattern": {
              "fillmode": "overlay",
              "size": 10,
              "solidity": 0.2
             }
            },
            "type": "histogram"
           }
          ],
          "histogram2d": [
           {
            "colorbar": {
             "outlinewidth": 0,
             "ticks": ""
            },
            "colorscale": [
             [
              0,
              "#0d0887"
             ],
             [
              0.1111111111111111,
              "#46039f"
             ],
             [
              0.2222222222222222,
              "#7201a8"
             ],
             [
              0.3333333333333333,
              "#9c179e"
             ],
             [
              0.4444444444444444,
              "#bd3786"
             ],
             [
              0.5555555555555556,
              "#d8576b"
             ],
             [
              0.6666666666666666,
              "#ed7953"
             ],
             [
              0.7777777777777778,
              "#fb9f3a"
             ],
             [
              0.8888888888888888,
              "#fdca26"
             ],
             [
              1,
              "#f0f921"
             ]
            ],
            "type": "histogram2d"
           }
          ],
          "histogram2dcontour": [
           {
            "colorbar": {
             "outlinewidth": 0,
             "ticks": ""
            },
            "colorscale": [
             [
              0,
              "#0d0887"
             ],
             [
              0.1111111111111111,
              "#46039f"
             ],
             [
              0.2222222222222222,
              "#7201a8"
             ],
             [
              0.3333333333333333,
              "#9c179e"
             ],
             [
              0.4444444444444444,
              "#bd3786"
             ],
             [
              0.5555555555555556,
              "#d8576b"
             ],
             [
              0.6666666666666666,
              "#ed7953"
             ],
             [
              0.7777777777777778,
              "#fb9f3a"
             ],
             [
              0.8888888888888888,
              "#fdca26"
             ],
             [
              1,
              "#f0f921"
             ]
            ],
            "type": "histogram2dcontour"
           }
          ],
          "mesh3d": [
           {
            "colorbar": {
             "outlinewidth": 0,
             "ticks": ""
            },
            "type": "mesh3d"
           }
          ],
          "parcoords": [
           {
            "line": {
             "colorbar": {
              "outlinewidth": 0,
              "ticks": ""
             }
            },
            "type": "parcoords"
           }
          ],
          "pie": [
           {
            "automargin": true,
            "type": "pie"
           }
          ],
          "scatter": [
           {
            "fillpattern": {
             "fillmode": "overlay",
             "size": 10,
             "solidity": 0.2
            },
            "type": "scatter"
           }
          ],
          "scatter3d": [
           {
            "line": {
             "colorbar": {
              "outlinewidth": 0,
              "ticks": ""
             }
            },
            "marker": {
             "colorbar": {
              "outlinewidth": 0,
              "ticks": ""
             }
            },
            "type": "scatter3d"
           }
          ],
          "scattercarpet": [
           {
            "marker": {
             "colorbar": {
              "outlinewidth": 0,
              "ticks": ""
             }
            },
            "type": "scattercarpet"
           }
          ],
          "scattergeo": [
           {
            "marker": {
             "colorbar": {
              "outlinewidth": 0,
              "ticks": ""
             }
            },
            "type": "scattergeo"
           }
          ],
          "scattergl": [
           {
            "marker": {
             "colorbar": {
              "outlinewidth": 0,
              "ticks": ""
             }
            },
            "type": "scattergl"
           }
          ],
          "scattermapbox": [
           {
            "marker": {
             "colorbar": {
              "outlinewidth": 0,
              "ticks": ""
             }
            },
            "type": "scattermapbox"
           }
          ],
          "scatterpolar": [
           {
            "marker": {
             "colorbar": {
              "outlinewidth": 0,
              "ticks": ""
             }
            },
            "type": "scatterpolar"
           }
          ],
          "scatterpolargl": [
           {
            "marker": {
             "colorbar": {
              "outlinewidth": 0,
              "ticks": ""
             }
            },
            "type": "scatterpolargl"
           }
          ],
          "scatterternary": [
           {
            "marker": {
             "colorbar": {
              "outlinewidth": 0,
              "ticks": ""
             }
            },
            "type": "scatterternary"
           }
          ],
          "surface": [
           {
            "colorbar": {
             "outlinewidth": 0,
             "ticks": ""
            },
            "colorscale": [
             [
              0,
              "#0d0887"
             ],
             [
              0.1111111111111111,
              "#46039f"
             ],
             [
              0.2222222222222222,
              "#7201a8"
             ],
             [
              0.3333333333333333,
              "#9c179e"
             ],
             [
              0.4444444444444444,
              "#bd3786"
             ],
             [
              0.5555555555555556,
              "#d8576b"
             ],
             [
              0.6666666666666666,
              "#ed7953"
             ],
             [
              0.7777777777777778,
              "#fb9f3a"
             ],
             [
              0.8888888888888888,
              "#fdca26"
             ],
             [
              1,
              "#f0f921"
             ]
            ],
            "type": "surface"
           }
          ],
          "table": [
           {
            "cells": {
             "fill": {
              "color": "#EBF0F8"
             },
             "line": {
              "color": "white"
             }
            },
            "header": {
             "fill": {
              "color": "#C8D4E3"
             },
             "line": {
              "color": "white"
             }
            },
            "type": "table"
           }
          ]
         },
         "layout": {
          "annotationdefaults": {
           "arrowcolor": "#2a3f5f",
           "arrowhead": 0,
           "arrowwidth": 1
          },
          "autotypenumbers": "strict",
          "coloraxis": {
           "colorbar": {
            "outlinewidth": 0,
            "ticks": ""
           }
          },
          "colorscale": {
           "diverging": [
            [
             0,
             "#8e0152"
            ],
            [
             0.1,
             "#c51b7d"
            ],
            [
             0.2,
             "#de77ae"
            ],
            [
             0.3,
             "#f1b6da"
            ],
            [
             0.4,
             "#fde0ef"
            ],
            [
             0.5,
             "#f7f7f7"
            ],
            [
             0.6,
             "#e6f5d0"
            ],
            [
             0.7,
             "#b8e186"
            ],
            [
             0.8,
             "#7fbc41"
            ],
            [
             0.9,
             "#4d9221"
            ],
            [
             1,
             "#276419"
            ]
           ],
           "sequential": [
            [
             0,
             "#0d0887"
            ],
            [
             0.1111111111111111,
             "#46039f"
            ],
            [
             0.2222222222222222,
             "#7201a8"
            ],
            [
             0.3333333333333333,
             "#9c179e"
            ],
            [
             0.4444444444444444,
             "#bd3786"
            ],
            [
             0.5555555555555556,
             "#d8576b"
            ],
            [
             0.6666666666666666,
             "#ed7953"
            ],
            [
             0.7777777777777778,
             "#fb9f3a"
            ],
            [
             0.8888888888888888,
             "#fdca26"
            ],
            [
             1,
             "#f0f921"
            ]
           ],
           "sequentialminus": [
            [
             0,
             "#0d0887"
            ],
            [
             0.1111111111111111,
             "#46039f"
            ],
            [
             0.2222222222222222,
             "#7201a8"
            ],
            [
             0.3333333333333333,
             "#9c179e"
            ],
            [
             0.4444444444444444,
             "#bd3786"
            ],
            [
             0.5555555555555556,
             "#d8576b"
            ],
            [
             0.6666666666666666,
             "#ed7953"
            ],
            [
             0.7777777777777778,
             "#fb9f3a"
            ],
            [
             0.8888888888888888,
             "#fdca26"
            ],
            [
             1,
             "#f0f921"
            ]
           ]
          },
          "colorway": [
           "#636efa",
           "#EF553B",
           "#00cc96",
           "#ab63fa",
           "#FFA15A",
           "#19d3f3",
           "#FF6692",
           "#B6E880",
           "#FF97FF",
           "#FECB52"
          ],
          "font": {
           "color": "#2a3f5f"
          },
          "geo": {
           "bgcolor": "white",
           "lakecolor": "white",
           "landcolor": "#E5ECF6",
           "showlakes": true,
           "showland": true,
           "subunitcolor": "white"
          },
          "hoverlabel": {
           "align": "left"
          },
          "hovermode": "closest",
          "mapbox": {
           "style": "light"
          },
          "paper_bgcolor": "white",
          "plot_bgcolor": "#E5ECF6",
          "polar": {
           "angularaxis": {
            "gridcolor": "white",
            "linecolor": "white",
            "ticks": ""
           },
           "bgcolor": "#E5ECF6",
           "radialaxis": {
            "gridcolor": "white",
            "linecolor": "white",
            "ticks": ""
           }
          },
          "scene": {
           "xaxis": {
            "backgroundcolor": "#E5ECF6",
            "gridcolor": "white",
            "gridwidth": 2,
            "linecolor": "white",
            "showbackground": true,
            "ticks": "",
            "zerolinecolor": "white"
           },
           "yaxis": {
            "backgroundcolor": "#E5ECF6",
            "gridcolor": "white",
            "gridwidth": 2,
            "linecolor": "white",
            "showbackground": true,
            "ticks": "",
            "zerolinecolor": "white"
           },
           "zaxis": {
            "backgroundcolor": "#E5ECF6",
            "gridcolor": "white",
            "gridwidth": 2,
            "linecolor": "white",
            "showbackground": true,
            "ticks": "",
            "zerolinecolor": "white"
           }
          },
          "shapedefaults": {
           "line": {
            "color": "#2a3f5f"
           }
          },
          "ternary": {
           "aaxis": {
            "gridcolor": "white",
            "linecolor": "white",
            "ticks": ""
           },
           "baxis": {
            "gridcolor": "white",
            "linecolor": "white",
            "ticks": ""
           },
           "bgcolor": "#E5ECF6",
           "caxis": {
            "gridcolor": "white",
            "linecolor": "white",
            "ticks": ""
           }
          },
          "title": {
           "x": 0.05
          },
          "xaxis": {
           "automargin": true,
           "gridcolor": "white",
           "linecolor": "white",
           "ticks": "",
           "title": {
            "standoff": 15
           },
           "zerolinecolor": "white",
           "zerolinewidth": 2
          },
          "yaxis": {
           "automargin": true,
           "gridcolor": "white",
           "linecolor": "white",
           "ticks": "",
           "title": {
            "standoff": 15
           },
           "zerolinecolor": "white",
           "zerolinewidth": 2
          }
         }
        },
        "title": {
         "font": {
          "color": "white"
         },
         "text": "Number of Shooting Incidents in NYC per Year (2006-2024)"
        },
        "xaxis": {
         "gridcolor": "gray",
         "tickangle": -45,
         "title": {
          "text": "Year"
         }
        },
        "yaxis": {
         "gridcolor": "gray",
         "tickfont": {
          "color": "white"
         },
         "title": {
          "font": {
           "color": "white"
          },
          "text": "Number of Shootings"
         }
        }
       }
      }
     },
     "metadata": {},
     "output_type": "display_data"
    }
   ],
   "source": [
    "cleaned_data['OCCUR_DATE'] = pd.to_datetime(cleaned_data['OCCUR_DATE'])\n",
    "cleaned_data['YEAR'] = cleaned_data['OCCUR_DATE'].dt.year\n",
    "# cleaned_data['OCCUR_TIME'] = pd.to_datetime(cleaned_data['OCCUR_TIME'], format='%H:%M:%S').dt.hour\n",
    "\n",
    "# Group data by year and count incidents\n",
    "incidents_per_year = cleaned_data.groupby('YEAR').size().reset_index(name='Incidents')\n",
    "incidents_per_year['color'] =incidents_per_year['YEAR'].map(year_to_color_2020_2021)\n",
    "\n",
    "# Calculate the trend line\n",
    "x = incidents_per_year['YEAR']  # Years\n",
    "y = incidents_per_year['Incidents']  # Incident counts\n",
    "coefficients = np.polyfit(x, y, 1)\n",
    "trend_line = np.poly1d(coefficients)\n",
    "\n",
    "# Create a DataFrame for the trend line\n",
    "trend_df = pd.DataFrame({\n",
    "    'YEAR': x,\n",
    "    'Trend': trend_line(x)\n",
    "})\n",
    "\n",
    "\n",
    "# Plotting with Plotly Express\n",
    "fig = px.bar(incidents_per_year, x='YEAR', y='Incidents', text='Incidents',\n",
    "             labels={'YEAR': 'Year', 'Incidents': 'Number of Shootings'},\n",
    "             title='Number of Shooting Incidents in NYC per Year (2006-2024)',\n",
    "             color_discrete_sequence=['skyblue'])\n",
    "fig.update_traces(texttemplate='%{text}', textposition='outside', textfont=dict(size=10))\n",
    "fig.add_scatter(x=trend_df['YEAR'], y=trend_df['Trend'], mode='lines',\n",
    "                name='Trend Line', line=dict(color=emphasis_color))\n",
    "\n",
    "\n",
    "# Calculate the trend line\n",
    "x = incidents_per_year['YEAR']  # Years\n",
    "y = incidents_per_year['Incidents']  # Incident counts\n",
    "coefficients = np.polyfit(x, y, 1)\n",
    "trend_line = np.poly1d(coefficients)\n",
    "\n",
    "# Create a DataFrame for the trend line\n",
    "trend_df = pd.DataFrame({\n",
    "    'YEAR': x,\n",
    "    'Trend': trend_line(x)\n",
    "})\n",
    "\n",
    "# Create the bar chart\n",
    "fig = go.Figure()\n",
    "\n",
    "# Add bars\n",
    "for idx, row in incidents_per_year.iterrows():\n",
    "    fig.add_trace(go.Bar(x=[row['YEAR']], y=[row['Incidents']], \n",
    "                         marker_color=row['color'], name=str(row['YEAR'])))\n",
    "\n",
    "# Add trend line\n",
    "fig.add_trace(go.Scatter(x=trend_df['YEAR'], y=trend_df['Trend'], mode='lines',\n",
    "                         name='Trend Line', line=dict(color=emphasis_color)))\n",
    "\n",
    "# Enhance the plot\n",
    "fig.update_layout(\n",
    "    title='Number of Shooting Incidents in NYC per Year (2006-2024)',\n",
    "    title_font_color='white',  # Set title color to white for visibility\n",
    "    xaxis=dict(\n",
    "        title='Year',\n",
    "        tickangle=-45,\n",
    "        # title_font_color='white',  # Set x-axis title color to white\n",
    "        # tickfont_color='white',  # Set x-axis tick labels to white\n",
    "        gridcolor='gray',  # Set grid color for better visibility against black\n",
    "    ),\n",
    "    yaxis=dict(\n",
    "        title='Number of Shootings',\n",
    "        title_font_color='white',  # Set y-axis title color to white\n",
    "        tickfont_color='white',  # Set y-axis tick labels to white\n",
    "        gridcolor='gray',  # Set grid color for better visibility against black\n",
    "    ),\n",
    "    plot_bgcolor='black',  # Set the plotting area background to black\n",
    "    paper_bgcolor='black',  # Set the entire chart background to black\n",
    "    showlegend=False,\n",
    "    margin=dict(l=30, r=20, t=60, b=20),\n",
    "    font=dict(\n",
    "        color='white'  # Ensure all default text (like legend, annotations) is white\n",
    "    )\n",
    ")\n",
    "\n",
    "\n",
    "fig.show()\n",
    "pio.write_html(fig, file='shootings_by_year.html', auto_open=False)\n"
   ]
  },
  {
   "cell_type": "markdown",
   "metadata": {},
   "source": [
    "#### Number of Shooting Incidents per Year\n",
    "\n",
    "- **Purpose:**  \n",
    "  - Bar plot depicting annual shooting incidents from 2006 to 2022 in New York City.\n",
    "\n",
    "- **Trends Identified:**  \n",
    "  - Relatively stable trend with minor fluctuations until 2013-2017.\n",
    "  - Noticeable decrease in shootings to about 970 annually during that period.\n",
    "  - Sharp increase post-2017, peaking in 2020 with around 1,200 incidents.\n",
    "\n",
    "- **Contextual Observations:**  \n",
    "  - The 2020 peak coincides with the COVID-19 pandemic and the social unrest following major socio-political events.\n",
    "  - Increased economic and social stressors likely contributed to this rise.\n"
   ]
  },
  {
   "cell_type": "code",
   "execution_count": 27,
   "metadata": {},
   "outputs": [
    {
     "data": {
      "image/png": "[encoded data removed]",
      "text/plain": [
       "<Figure size 1200x600 with 1 Axes>"
      ]
     },
     "metadata": {},
     "output_type": "display_data"
    }
   ],
   "source": [
    "# Counting incidents per borough (BORO)\n",
    "incidents_per_boro = cleaned_data['BORO'].value_counts().sort_index()\n",
    "\n",
    "# Plotting the data\n",
    "plt.figure(figsize=(12, 6))\n",
    "incidents_per_boro.plot(kind='bar', color='skyblue')\n",
    "plt.title('Number of Shooting Incidents by Borough')\n",
    "plt.xlabel('Borough')\n",
    "plt.ylabel('Number of Incidents')\n",
    "plt.grid(True, which='both', linestyle='--', linewidth=0.5)\n",
    "plt.xticks(rotation=45)  # Rotating for better label visibility\n",
    "plt.tight_layout()\n",
    "plt.show()"
   ]
  },
  {
   "cell_type": "markdown",
   "metadata": {},
   "source": [
    "#### Number of Shooting Incidents by Borough\n",
    "\n",
    "- **Purpose:**  \n",
    "  - Bar plot comparing shooting incidents across the five boroughs (2006-2024).\n",
    "\n",
    "- **Trends Identified:**  \n",
    "  - Brooklyn and the Bronx report the highest number of incidents, indicating possible hotspots.\n",
    "  - Manhattan, Queens, and Staten Island have fewer incidents comparatively."
   ]
  },
  {
   "cell_type": "code",
   "execution_count": 28,
   "metadata": {},
   "outputs": [
    {
     "data": {
      "image/png": "[encoded data removed]",
      "text/plain": [
       "<Figure size 1400x800 with 1 Axes>"
      ]
     },
     "metadata": {},
     "output_type": "display_data"
    },
    {
     "data": {
      "image/png": "[encoded data removed]",
      "text/plain": [
       "<Figure size 1400x800 with 1 Axes>"
      ]
     },
     "metadata": {},
     "output_type": "display_data"
    }
   ],
   "source": [
    "cleaned_data = cleaned_data[cleaned_data['LOCATION_DESC'] != '(null)']\n",
    "filtered_location_desc = cleaned_data['LOCATION_DESC'].dropna()\n",
    "incidents_per_location_desc = filtered_location_desc.value_counts().sort_index()\n",
    "\n",
    "plt.figure(figsize=(14, 8))\n",
    "incidents_per_location_desc.plot(kind='bar', color='skyblue')\n",
    "plt.title('Number of Shooting Incidents by Location Description')\n",
    "plt.xlabel('Location Description')\n",
    "plt.ylabel('Number of Incidents')\n",
    "plt.grid(True, which='both', linestyle='--', linewidth=0.5)\n",
    "plt.xticks(rotation=90)  # Rotating the labels for better readability\n",
    "plt.tight_layout()\n",
    "plt.show()\n",
    "\n",
    "plt.figure(figsize=(14, 8))\n",
    "incidents_per_location_desc.plot(kind='bar', color='skyblue')\n",
    "plt.title('Number of Shooting Incidents by Location Description')\n",
    "plt.xlabel('Location Description')\n",
    "plt.ylabel('Number of Incidents')\n",
    "plt.yscale('log')  # Applying a logarithmic scale\n",
    "plt.grid(True, which='both', linestyle='--', linewidth=0.5)\n",
    "plt.xticks(rotation=90)\n",
    "plt.tight_layout()\n",
    "plt.show()"
   ]
  },
  {
   "cell_type": "markdown",
   "metadata": {},
   "source": [
    "#### Number of Shooting Incidents by Location Description\n",
    "\n",
    "- **Purpose:**  \n",
    "  - Bar plot categorizing incidents by location type (2006-2024).\n",
    "\n",
    "- **Trends Identified:**  \n",
    "  - High occurrence at bars, gas stations, liquor stores, and nightclubs.\n",
    "  - Lower incidents at banks, schools, and multi-dwelling houses.\n",
    "\n",
    "- **Contextual Observations:**  \n",
    "  - Social interaction and alcohol presence may increase shooting risks in venues like bars.\n",
    "  - The prevalence of shootings on \"Street\" indicates pervasive urban gun violence beyond controlled environments."
   ]
  },
  {
   "cell_type": "code",
   "execution_count": 36,
   "metadata": {},
   "outputs": [],
   "source": [
    "# Group data by perpetrator age group and count incidents\n",
    "incidents_per_perp_age_group = cleaned_data['PERP_AGE_GROUP'].value_counts().sort_index()\n",
    "\n",
    "# Group data by victim age group and count incidents\n",
    "incidents_per_vic_age_group = cleaned_data['VIC_AGE_GROUP'].value_counts().sort_index()\n",
    "\n",
    "# Count incidents by perpetrator sex\n",
    "incidents_per_perp_sex = cleaned_data['PERP_SEX'].value_counts().sort_index()\n",
    "\n",
    "# Count incidents by victim sex\n",
    "incidents_per_vic_sex = cleaned_data['VIC_SEX'].value_counts().sort_index()\n",
    "\n",
    "# Assuming data loading and cleaning has already been done and 'data' is the DataFrame\n",
    "# Count incidents by perpetrator race\n",
    "incidents_per_perp_race = cleaned_data['PERP_RACE'].value_counts().sort_index()\n",
    "\n",
    "# Count incidents by victim race\n",
    "incidents_per_vic_race = cleaned_data['VIC_RACE'].value_counts().sort_index()\n"
   ]
  },
  {
   "cell_type": "code",
   "execution_count": 37,
   "metadata": {},
   "outputs": [
    {
     "data": {
      "application/vnd.plotly.v1+json": {
       "config": {
        "plotlyServerURL": "https://plot.ly"
       },
       "data": [
        {
         "marker": {
          "color": "rgb(255, 99, 71)"
         },
         "name": "Perpetrator Age Group",
         "type": "bar",
         "x": [
          "18-24",
          "25-44",
          "45-64",
          "65+",
          "<18",
          "UNKNOWN"
         ],
         "xaxis": "x",
         "y": [
          5990,
          5423,
          579,
          59,
          1503,
          3147
         ],
         "yaxis": "y"
        },
        {
         "marker": {
          "color": "rgb(100, 149, 237)"
         },
         "name": "Victim Age Group",
         "type": "bar",
         "x": [
          "18-24",
          "25-44",
          "45-64",
          "65+",
          "<18",
          "UNKNOWN"
         ],
         "xaxis": "x",
         "y": [
          9720,
          11615,
          1757,
          172,
          2721,
          60
         ],
         "yaxis": "y"
        },
        {
         "marker": {
          "color": "rgb(255, 99, 71)"
         },
         "name": "Perpetrator Sex",
         "type": "bar",
         "x": [
          "F",
          "M",
          "U"
         ],
         "xaxis": "x2",
         "y": [
          388,
          14848,
          1499
         ],
         "yaxis": "y2"
        },
        {
         "marker": {
          "color": "rgb(100, 149, 237)"
         },
         "name": "Victim Sex",
         "type": "bar",
         "x": [
          "F",
          "M",
          "U"
         ],
         "xaxis": "x2",
         "y": [
          2467,
          23567,
          11
         ],
         "yaxis": "y2"
        },
        {
         "marker": {
          "color": "rgb(255, 99, 71)"
         },
         "name": "Perpetrator Race",
         "type": "bar",
         "x": [
          "AMERICAN INDIAN/ALASKAN NATIVE",
          "ASIAN / PACIFIC ISLANDER",
          "BLACK",
          "BLACK HISPANIC",
          "UNKNOWN",
          "WHITE",
          "WHITE HISPANIC"
         ],
         "xaxis": "x3",
         "y": [
          2,
          147,
          10993,
          1245,
          1836,
          274,
          2238
         ],
         "yaxis": "y3"
        },
        {
         "marker": {
          "color": "rgb(100, 149, 237)"
         },
         "name": "Victim Race",
         "type": "bar",
         "x": [
          "AMERICAN INDIAN/ALASKAN NATIVE",
          "ASIAN / PACIFIC ISLANDER",
          "BLACK",
          "BLACK HISPANIC",
          "UNKNOWN",
          "WHITE",
          "WHITE HISPANIC"
         ],
         "xaxis": "x3",
         "y": [
          9,
          366,
          18595,
          2522,
          65,
          674,
          3814
         ],
         "yaxis": "y3"
        }
       ],
       "layout": {
        "annotations": [
         {
          "font": {
           "size": 16
          },
          "showarrow": false,
          "text": "Number of Shooting Incidents by Perpetrator and Victim Age Group",
          "x": 0.5,
          "xanchor": "center",
          "xref": "paper",
          "y": 1,
          "yanchor": "bottom",
          "yref": "paper"
         },
         {
          "font": {
           "size": 16
          },
          "showarrow": false,
          "text": "Number of Shooting Incidents by Sex",
          "x": 0.5,
          "xanchor": "center",
          "xref": "paper",
          "y": 0.6111111111111112,
          "yanchor": "bottom",
          "yref": "paper"
         },
         {
          "font": {
           "size": 16
          },
          "showarrow": false,
          "text": "Number of Shooting Incidents by Race",
          "x": 0.5,
          "xanchor": "center",
          "xref": "paper",
          "y": 0.22222222222222224,
          "yanchor": "bottom",
          "yref": "paper"
         }
        ],
        "barmode": "group",
        "height": 1200,
        "legend": {
         "title": {
          "text": "Category"
         }
        },
        "plot_bgcolor": "rgba(0,0,0,0)",
        "showlegend": true,
        "template": {
         "data": {
          "bar": [
           {
            "error_x": {
             "color": "#2a3f5f"
            },
            "error_y": {
             "color": "#2a3f5f"
            },
            "marker": {
             "line": {
              "color": "#E5ECF6",
              "width": 0.5
             },
             "pattern": {
              "fillmode": "overlay",
              "size": 10,
              "solidity": 0.2
             }
            },
            "type": "bar"
           }
          ],
          "barpolar": [
           {
            "marker": {
             "line": {
              "color": "#E5ECF6",
              "width": 0.5
             },
             "pattern": {
              "fillmode": "overlay",
              "size": 10,
              "solidity": 0.2
             }
            },
            "type": "barpolar"
           }
          ],
          "carpet": [
           {
            "aaxis": {
             "endlinecolor": "#2a3f5f",
             "gridcolor": "white",
             "linecolor": "white",
             "minorgridcolor": "white",
             "startlinecolor": "#2a3f5f"
            },
            "baxis": {
             "endlinecolor": "#2a3f5f",
             "gridcolor": "white",
             "linecolor": "white",
             "minorgridcolor": "white",
             "startlinecolor": "#2a3f5f"
            },
            "type": "carpet"
           }
          ],
          "choropleth": [
           {
            "colorbar": {
             "outlinewidth": 0,
             "ticks": ""
            },
            "type": "choropleth"
           }
          ],
          "contour": [
           {
            "colorbar": {
             "outlinewidth": 0,
             "ticks": ""
            },
            "colorscale": [
             [
              0,
              "#0d0887"
             ],
             [
              0.1111111111111111,
              "#46039f"
             ],
             [
              0.2222222222222222,
              "#7201a8"
             ],
             [
              0.3333333333333333,
              "#9c179e"
             ],
             [
              0.4444444444444444,
              "#bd3786"
             ],
             [
              0.5555555555555556,
              "#d8576b"
             ],
             [
              0.6666666666666666,
              "#ed7953"
             ],
             [
              0.7777777777777778,
              "#fb9f3a"
             ],
             [
              0.8888888888888888,
              "#fdca26"
             ],
             [
              1,
              "#f0f921"
             ]
            ],
            "type": "contour"
           }
          ],
          "contourcarpet": [
           {
            "colorbar": {
             "outlinewidth": 0,
             "ticks": ""
            },
            "type": "contourcarpet"
           }
          ],
          "heatmap": [
           {
            "colorbar": {
             "outlinewidth": 0,
             "ticks": ""
            },
            "colorscale": [
             [
              0,
              "#0d0887"
             ],
             [
              0.1111111111111111,
              "#46039f"
             ],
             [
              0.2222222222222222,
              "#7201a8"
             ],
             [
              0.3333333333333333,
              "#9c179e"
             ],
             [
              0.4444444444444444,
              "#bd3786"
             ],
             [
              0.5555555555555556,
              "#d8576b"
             ],
             [
              0.6666666666666666,
              "#ed7953"
             ],
             [
              0.7777777777777778,
              "#fb9f3a"
             ],
             [
              0.8888888888888888,
              "#fdca26"
             ],
             [
              1,
              "#f0f921"
             ]
            ],
            "type": "heatmap"
           }
          ],
          "heatmapgl": [
           {
            "colorbar": {
             "outlinewidth": 0,
             "ticks": ""
            },
            "colorscale": [
             [
              0,
              "#0d0887"
             ],
             [
              0.1111111111111111,
              "#46039f"
             ],
             [
              0.2222222222222222,
              "#7201a8"
             ],
             [
              0.3333333333333333,
              "#9c179e"
             ],
             [
              0.4444444444444444,
              "#bd3786"
             ],
             [
              0.5555555555555556,
              "#d8576b"
             ],
             [
              0.6666666666666666,
              "#ed7953"
             ],
             [
              0.7777777777777778,
              "#fb9f3a"
             ],
             [
              0.8888888888888888,
              "#fdca26"
             ],
             [
              1,
              "#f0f921"
             ]
            ],
            "type": "heatmapgl"
           }
          ],
          "histogram": [
           {
            "marker": {
             "pattern": {
              "fillmode": "overlay",
              "size": 10,
              "solidity": 0.2
             }
            },
            "type": "histogram"
           }
          ],
          "histogram2d": [
           {
            "colorbar": {
             "outlinewidth": 0,
             "ticks": ""
            },
            "colorscale": [
             [
              0,
              "#0d0887"
             ],
             [
              0.1111111111111111,
              "#46039f"
             ],
             [
              0.2222222222222222,
              "#7201a8"
             ],
             [
              0.3333333333333333,
              "#9c179e"
             ],
             [
              0.4444444444444444,
              "#bd3786"
             ],
             [
              0.5555555555555556,
              "#d8576b"
             ],
             [
              0.6666666666666666,
              "#ed7953"
             ],
             [
              0.7777777777777778,
              "#fb9f3a"
             ],
             [
              0.8888888888888888,
              "#fdca26"
             ],
             [
              1,
              "#f0f921"
             ]
            ],
            "type": "histogram2d"
           }
          ],
          "histogram2dcontour": [
           {
            "colorbar": {
             "outlinewidth": 0,
             "ticks": ""
            },
            "colorscale": [
             [
              0,
              "#0d0887"
             ],
             [
              0.1111111111111111,
              "#46039f"
             ],
             [
              0.2222222222222222,
              "#7201a8"
             ],
             [
              0.3333333333333333,
              "#9c179e"
             ],
             [
              0.4444444444444444,
              "#bd3786"
             ],
             [
              0.5555555555555556,
              "#d8576b"
             ],
             [
              0.6666666666666666,
              "#ed7953"
             ],
             [
              0.7777777777777778,
              "#fb9f3a"
             ],
             [
              0.8888888888888888,
              "#fdca26"
             ],
             [
              1,
              "#f0f921"
             ]
            ],
            "type": "histogram2dcontour"
           }
          ],
          "mesh3d": [
           {
            "colorbar": {
             "outlinewidth": 0,
             "ticks": ""
            },
            "type": "mesh3d"
           }
          ],
          "parcoords": [
           {
            "line": {
             "colorbar": {
              "outlinewidth": 0,
              "ticks": ""
             }
            },
            "type": "parcoords"
           }
          ],
          "pie": [
           {
            "automargin": true,
            "type": "pie"
           }
          ],
          "scatter": [
           {
            "fillpattern": {
             "fillmode": "overlay",
             "size": 10,
             "solidity": 0.2
            },
            "type": "scatter"
           }
          ],
          "scatter3d": [
           {
            "line": {
             "colorbar": {
              "outlinewidth": 0,
              "ticks": ""
             }
            },
            "marker": {
             "colorbar": {
              "outlinewidth": 0,
              "ticks": ""
             }
            },
            "type": "scatter3d"
           }
          ],
          "scattercarpet": [
           {
            "marker": {
             "colorbar": {
              "outlinewidth": 0,
              "ticks": ""
             }
            },
            "type": "scattercarpet"
           }
          ],
          "scattergeo": [
           {
            "marker": {
             "colorbar": {
              "outlinewidth": 0,
              "ticks": ""
             }
            },
            "type": "scattergeo"
           }
          ],
          "scattergl": [
           {
            "marker": {
             "colorbar": {
              "outlinewidth": 0,
              "ticks": ""
             }
            },
            "type": "scattergl"
           }
          ],
          "scattermapbox": [
           {
            "marker": {
             "colorbar": {
              "outlinewidth": 0,
              "ticks": ""
             }
            },
            "type": "scattermapbox"
           }
          ],
          "scatterpolar": [
           {
            "marker": {
             "colorbar": {
              "outlinewidth": 0,
              "ticks": ""
             }
            },
            "type": "scatterpolar"
           }
          ],
          "scatterpolargl": [
           {
            "marker": {
             "colorbar": {
              "outlinewidth": 0,
              "ticks": ""
             }
            },
            "type": "scatterpolargl"
           }
          ],
          "scatterternary": [
           {
            "marker": {
             "colorbar": {
              "outlinewidth": 0,
              "ticks": ""
             }
            },
            "type": "scatterternary"
           }
          ],
          "surface": [
           {
            "colorbar": {
             "outlinewidth": 0,
             "ticks": ""
            },
            "colorscale": [
             [
              0,
              "#0d0887"
             ],
             [
              0.1111111111111111,
              "#46039f"
             ],
             [
              0.2222222222222222,
              "#7201a8"
             ],
             [
              0.3333333333333333,
              "#9c179e"
             ],
             [
              0.4444444444444444,
              "#bd3786"
             ],
             [
              0.5555555555555556,
              "#d8576b"
             ],
             [
              0.6666666666666666,
              "#ed7953"
             ],
             [
              0.7777777777777778,
              "#fb9f3a"
             ],
             [
              0.8888888888888888,
              "#fdca26"
             ],
             [
              1,
              "#f0f921"
             ]
            ],
            "type": "surface"
           }
          ],
          "table": [
           {
            "cells": {
             "fill": {
              "color": "#EBF0F8"
             },
             "line": {
              "color": "white"
             }
            },
            "header": {
             "fill": {
              "color": "#C8D4E3"
             },
             "line": {
              "color": "white"
             }
            },
            "type": "table"
           }
          ]
         },
         "layout": {
          "annotationdefaults": {
           "arrowcolor": "#2a3f5f",
           "arrowhead": 0,
           "arrowwidth": 1
          },
          "autotypenumbers": "strict",
          "coloraxis": {
           "colorbar": {
            "outlinewidth": 0,
            "ticks": ""
           }
          },
          "colorscale": {
           "diverging": [
            [
             0,
             "#8e0152"
            ],
            [
             0.1,
             "#c51b7d"
            ],
            [
             0.2,
             "#de77ae"
            ],
            [
             0.3,
             "#f1b6da"
            ],
            [
             0.4,
             "#fde0ef"
            ],
            [
             0.5,
             "#f7f7f7"
            ],
            [
             0.6,
             "#e6f5d0"
            ],
            [
             0.7,
             "#b8e186"
            ],
            [
             0.8,
             "#7fbc41"
            ],
            [
             0.9,
             "#4d9221"
            ],
            [
             1,
             "#276419"
            ]
           ],
           "sequential": [
            [
             0,
             "#0d0887"
            ],
            [
             0.1111111111111111,
             "#46039f"
            ],
            [
             0.2222222222222222,
             "#7201a8"
            ],
            [
             0.3333333333333333,
             "#9c179e"
            ],
            [
             0.4444444444444444,
             "#bd3786"
            ],
            [
             0.5555555555555556,
             "#d8576b"
            ],
            [
             0.6666666666666666,
             "#ed7953"
            ],
            [
             0.7777777777777778,
             "#fb9f3a"
            ],
            [
             0.8888888888888888,
             "#fdca26"
            ],
            [
             1,
             "#f0f921"
            ]
           ],
           "sequentialminus": [
            [
             0,
             "#0d0887"
            ],
            [
             0.1111111111111111,
             "#46039f"
            ],
            [
             0.2222222222222222,
             "#7201a8"
            ],
            [
             0.3333333333333333,
             "#9c179e"
            ],
            [
             0.4444444444444444,
             "#bd3786"
            ],
            [
             0.5555555555555556,
             "#d8576b"
            ],
            [
             0.6666666666666666,
             "#ed7953"
            ],
            [
             0.7777777777777778,
             "#fb9f3a"
            ],
            [
             0.8888888888888888,
             "#fdca26"
            ],
            [
             1,
             "#f0f921"
            ]
           ]
          },
          "colorway": [
           "#636efa",
           "#EF553B",
           "#00cc96",
           "#ab63fa",
           "#FFA15A",
           "#19d3f3",
           "#FF6692",
           "#B6E880",
           "#FF97FF",
           "#FECB52"
          ],
          "font": {
           "color": "#2a3f5f"
          },
          "geo": {
           "bgcolor": "white",
           "lakecolor": "white",
           "landcolor": "#E5ECF6",
           "showlakes": true,
           "showland": true,
           "subunitcolor": "white"
          },
          "hoverlabel": {
           "align": "left"
          },
          "hovermode": "closest",
          "mapbox": {
           "style": "light"
          },
          "paper_bgcolor": "white",
          "plot_bgcolor": "#E5ECF6",
          "polar": {
           "angularaxis": {
            "gridcolor": "white",
            "linecolor": "white",
            "ticks": ""
           },
           "bgcolor": "#E5ECF6",
           "radialaxis": {
            "gridcolor": "white",
            "linecolor": "white",
            "ticks": ""
           }
          },
          "scene": {
           "xaxis": {
            "backgroundcolor": "#E5ECF6",
            "gridcolor": "white",
            "gridwidth": 2,
            "linecolor": "white",
            "showbackground": true,
            "ticks": "",
            "zerolinecolor": "white"
           },
           "yaxis": {
            "backgroundcolor": "#E5ECF6",
            "gridcolor": "white",
            "gridwidth": 2,
            "linecolor": "white",
            "showbackground": true,
            "ticks": "",
            "zerolinecolor": "white"
           },
           "zaxis": {
            "backgroundcolor": "#E5ECF6",
            "gridcolor": "white",
            "gridwidth": 2,
            "linecolor": "white",
            "showbackground": true,
            "ticks": "",
            "zerolinecolor": "white"
           }
          },
          "shapedefaults": {
           "line": {
            "color": "#2a3f5f"
           }
          },
          "ternary": {
           "aaxis": {
            "gridcolor": "white",
            "linecolor": "white",
            "ticks": ""
           },
           "baxis": {
            "gridcolor": "white",
            "linecolor": "white",
            "ticks": ""
           },
           "bgcolor": "#E5ECF6",
           "caxis": {
            "gridcolor": "white",
            "linecolor": "white",
            "ticks": ""
           }
          },
          "title": {
           "x": 0.05
          },
          "xaxis": {
           "automargin": true,
           "gridcolor": "white",
           "linecolor": "white",
           "ticks": "",
           "title": {
            "standoff": 15
           },
           "zerolinecolor": "white",
           "zerolinewidth": 2
          },
          "yaxis": {
           "automargin": true,
           "gridcolor": "white",
           "linecolor": "white",
           "ticks": "",
           "title": {
            "standoff": 15
           },
           "zerolinecolor": "white",
           "zerolinewidth": 2
          }
         }
        },
        "title": {
         "text": "Comprehensive Analysis of Shooting Incidents"
        },
        "xaxis": {
         "anchor": "y",
         "domain": [
          0,
          1
         ],
         "title": {
          "text": "Age Group"
         }
        },
        "xaxis2": {
         "anchor": "y2",
         "domain": [
          0,
          1
         ],
         "title": {
          "text": "Sex"
         }
        },
        "xaxis3": {
         "anchor": "y3",
         "domain": [
          0,
          1
         ],
         "title": {
          "text": "Race"
         }
        },
        "yaxis": {
         "anchor": "x",
         "domain": [
          0.7777777777777778,
          1
         ],
         "title": {
          "text": "Number of Incidents"
         }
        },
        "yaxis2": {
         "anchor": "x2",
         "domain": [
          0.3888888888888889,
          0.6111111111111112
         ],
         "title": {
          "text": "Number of Incidents"
         }
        },
        "yaxis3": {
         "anchor": "x3",
         "domain": [
          0,
          0.22222222222222224
         ],
         "title": {
          "text": "Number of Incidents"
         }
        }
       }
      }
     },
     "metadata": {},
     "output_type": "display_data"
    }
   ],
   "source": [
    "import pandas as pd\n",
    "import plotly.graph_objects as go\n",
    "from plotly.subplots import make_subplots\n",
    "\n",
    "# Assuming the necessary data preparation steps have been completed for age_group, sex, and race\n",
    "\n",
    "# Create subplots\n",
    "fig = make_subplots(\n",
    "    rows=3, cols=1,\n",
    "    subplot_titles=(\"Number of Shooting Incidents by Perpetrator and Victim Age Group\",\n",
    "                    \"Number of Shooting Incidents by Sex\",\n",
    "                    \"Number of Shooting Incidents by Race\")\n",
    ")\n",
    "\n",
    "# Add first subplot for age group\n",
    "fig.add_trace(\n",
    "    go.Bar(name='Perpetrator Age Group', x=incidents_per_perp_age_group.index, y=incidents_per_perp_age_group.values, marker_color='rgb(255, 99, 71)'),\n",
    "    row=1, col=1\n",
    ")\n",
    "fig.add_trace(\n",
    "    go.Bar(name='Victim Age Group', x=incidents_per_vic_age_group.index, y=incidents_per_vic_age_group.values, marker_color='rgb(100, 149, 237)'),\n",
    "    row=1, col=1\n",
    ")\n",
    "\n",
    "# Add second subplot for sex\n",
    "fig.add_trace(\n",
    "    go.Bar(name='Perpetrator Sex', x=incidents_per_perp_sex.index, y=incidents_per_perp_sex.values, marker_color='rgb(255, 99, 71)'),\n",
    "    row=2, col=1\n",
    ")\n",
    "fig.add_trace(\n",
    "    go.Bar(name='Victim Sex', x=incidents_per_vic_sex.index, y=incidents_per_vic_sex.values, marker_color='rgb(100, 149, 237)'),\n",
    "    row=2, col=1\n",
    ")\n",
    "\n",
    "# Add third subplot for race\n",
    "fig.add_trace(\n",
    "    go.Bar(name='Perpetrator Race', x=incidents_per_perp_race.index, y=incidents_per_perp_race.values, marker_color='rgb(255, 99, 71)'),\n",
    "    row=3, col=1\n",
    ")\n",
    "fig.add_trace(\n",
    "    go.Bar(name='Victim Race', x=incidents_per_vic_race.index, y=incidents_per_vic_race.values, marker_color='rgb(100, 149, 237)'),\n",
    "    row=3, col=1\n",
    ")\n",
    "\n",
    "# Update layout for a cohesive look\n",
    "fig.update_layout(\n",
    "    title='Comprehensive Analysis of Shooting Incidents',\n",
    "    barmode='group',\n",
    "    height=1200,  # Adjust height to fit all plots comfortably\n",
    "    showlegend=True,\n",
    "    legend_title=\"Category\",\n",
    "    plot_bgcolor='rgba(0,0,0,0)'\n",
    ")\n",
    "\n",
    "# Update x-axis and y-axis titles individually if needed\n",
    "fig.update_xaxes(title_text=\"Age Group\", row=1, col=1)\n",
    "fig.update_xaxes(title_text=\"Sex\", row=2, col=1)\n",
    "fig.update_xaxes(title_text=\"Race\", row=3, col=1)\n",
    "fig.update_yaxes(title_text=\"Number of Incidents\", row=1, col=1)\n",
    "fig.update_yaxes(title_text=\"Number of Incidents\", row=2, col=1)\n",
    "fig.update_yaxes(title_text=\"Number of Incidents\", row=3, col=1)\n",
    "\n",
    "# Show the plot\n",
    "fig.show()\n",
    "\n",
    "# Optionally, save the figure to HTML to be opened in any web browser\n",
    "fig.write_html('Comprehensive_Shooting_Incidents_Analysis.html')  # Update the save path\n"
   ]
  },
  {
   "cell_type": "markdown",
   "metadata": {},
   "source": [
    "#### Analysis of Demographic Data in Shooting Incidents\n",
    "\n",
    "- **Purpose:**  \n",
    "  - Series of bar plots breaking down incidents by age, sex, and race of perpetrators and victims.\n",
    "\n",
    "- **Key Findings:**  \n",
    "  - **Age Group:**  \n",
    "    - Significant concentration in the 18-44 age range for both perpetrators and victims.\n",
    "    - Marked decline in involvement above age 45.\n",
    "\n",
    "  - **Sex:**  \n",
    "    - Males are significantly more affected than females, highlighting a strong gender disparity.\n",
    "\n",
    "  - **Race:**  \n",
    "    - Black individuals are the most involved, followed by Hispanic individuals, indicating possible socio-economic factors.\n"
   ]
  },
  {
   "cell_type": "markdown",
   "metadata": {},
   "source": [
    "The noticeable increase in shooting incidents during 2020 and 2021 called for careful analysis to identify patterns and contributing factors. Because of potential inaccuracies due to high missing data in columns like age, perpetrator race, sex, location and incident description these factors were set aside. Instead, we focused on the yearly incidents, different map plot and race to spot clear trends. Comparing data from 2020 and 2021 to earlier and later years showed the spike clearly, with 2020 reaching the highest number of incidents in recent years. \n",
    "\n",
    "An analysis of victim race each year showed that while overall shootings have gone down, the distribution across racial groups remained largely unchanged. \n",
    "\n",
    "The heatmap of race-on-race crime percentages showed that most incidents happened between people of the same race, with \"Black-on-Black\" crimes being the most frequent. The increase in shootings in 2020 and 2021 was unusual but consistent across different groups, suggesting widespread underlying issues. Although the overall decline in shootings is encouraging, the uneven impact on certain racial groups remains a concern. Understanding these trends will help shape focused policies and allocate resources for violence prevention and support programs."
   ]
  },
  {
   "cell_type": "code",
   "execution_count": 38,
   "metadata": {},
   "outputs": [
    {
     "data": {
      "application/vnd.plotly.v1+json": {
       "config": {
        "plotlyServerURL": "https://plot.ly"
       },
       "data": [
        {
         "line": {
          "color": "rgb(119,136,153)"
         },
         "mode": "lines",
         "name": "2018",
         "type": "scatter",
         "x": [
          1,
          2,
          3,
          4,
          5,
          6,
          7,
          8,
          9,
          10,
          11,
          12
         ],
         "y": [
          88,
          41,
          56,
          68,
          98,
          90,
          114,
          92,
          82,
          83,
          71,
          75
         ]
        },
        {
         "line": {
          "color": "rgb(119,136,192)"
         },
         "mode": "lines",
         "name": "2019",
         "type": "scatter",
         "x": [
          1,
          2,
          3,
          4,
          5,
          6,
          7,
          8,
          9,
          10,
          11,
          12
         ],
         "y": [
          63,
          59,
          64,
          67,
          81,
          107,
          120,
          105,
          86,
          80,
          71,
          63
         ]
        },
        {
         "line": {
          "color": "rgb(93,214,145)"
         },
         "mode": "lines",
         "name": "2020",
         "type": "scatter",
         "x": [
          1,
          2,
          3,
          4,
          5,
          6,
          7,
          8,
          9,
          10,
          11,
          12
         ],
         "y": [
          94,
          51,
          71,
          69,
          137,
          265,
          325,
          311,
          189,
          165,
          139,
          132
         ]
        },
        {
         "line": {
          "color": "rgb(143,188,143)"
         },
         "mode": "lines",
         "name": "2021",
         "type": "scatter",
         "x": [
          1,
          2,
          3,
          4,
          5,
          6,
          7,
          8,
          9,
          10,
          11,
          12
         ],
         "y": [
          95,
          89,
          130,
          181,
          227,
          199,
          204,
          228,
          192,
          159,
          151,
          156
         ]
        },
        {
         "line": {
          "color": "rgb(47,79,79)"
         },
         "mode": "lines",
         "name": "2022",
         "type": "scatter",
         "x": [
          1,
          2,
          3,
          4,
          5,
          6,
          7,
          8,
          9,
          10,
          11,
          12
         ],
         "y": [
          26,
          31,
          60,
          53,
          54,
          58,
          38,
          23,
          39,
          23,
          18,
          31
         ]
        }
       ],
       "layout": {
        "font": {
         "color": "white"
        },
        "legend": {
         "title": {
          "text": "Year"
         }
        },
        "paper_bgcolor": "black",
        "plot_bgcolor": "black",
        "template": {
         "data": {
          "bar": [
           {
            "error_x": {
             "color": "#2a3f5f"
            },
            "error_y": {
             "color": "#2a3f5f"
            },
            "marker": {
             "line": {
              "color": "#E5ECF6",
              "width": 0.5
             },
             "pattern": {
              "fillmode": "overlay",
              "size": 10,
              "solidity": 0.2
             }
            },
            "type": "bar"
           }
          ],
          "barpolar": [
           {
            "marker": {
             "line": {
              "color": "#E5ECF6",
              "width": 0.5
             },
             "pattern": {
              "fillmode": "overlay",
              "size": 10,
              "solidity": 0.2
             }
            },
            "type": "barpolar"
           }
          ],
          "carpet": [
           {
            "aaxis": {
             "endlinecolor": "#2a3f5f",
             "gridcolor": "white",
             "linecolor": "white",
             "minorgridcolor": "white",
             "startlinecolor": "#2a3f5f"
            },
            "baxis": {
             "endlinecolor": "#2a3f5f",
             "gridcolor": "white",
             "linecolor": "white",
             "minorgridcolor": "white",
             "startlinecolor": "#2a3f5f"
            },
            "type": "carpet"
           }
          ],
          "choropleth": [
           {
            "colorbar": {
             "outlinewidth": 0,
             "ticks": ""
            },
            "type": "choropleth"
           }
          ],
          "contour": [
           {
            "colorbar": {
             "outlinewidth": 0,
             "ticks": ""
            },
            "colorscale": [
             [
              0,
              "#0d0887"
             ],
             [
              0.1111111111111111,
              "#46039f"
             ],
             [
              0.2222222222222222,
              "#7201a8"
             ],
             [
              0.3333333333333333,
              "#9c179e"
             ],
             [
              0.4444444444444444,
              "#bd3786"
             ],
             [
              0.5555555555555556,
              "#d8576b"
             ],
             [
              0.6666666666666666,
              "#ed7953"
             ],
             [
              0.7777777777777778,
              "#fb9f3a"
             ],
             [
              0.8888888888888888,
              "#fdca26"
             ],
             [
              1,
              "#f0f921"
             ]
            ],
            "type": "contour"
           }
          ],
          "contourcarpet": [
           {
            "colorbar": {
             "outlinewidth": 0,
             "ticks": ""
            },
            "type": "contourcarpet"
           }
          ],
          "heatmap": [
           {
            "colorbar": {
             "outlinewidth": 0,
             "ticks": ""
            },
            "colorscale": [
             [
              0,
              "#0d0887"
             ],
             [
              0.1111111111111111,
              "#46039f"
             ],
             [
              0.2222222222222222,
              "#7201a8"
             ],
             [
              0.3333333333333333,
              "#9c179e"
             ],
             [
              0.4444444444444444,
              "#bd3786"
             ],
             [
              0.5555555555555556,
              "#d8576b"
             ],
             [
              0.6666666666666666,
              "#ed7953"
             ],
             [
              0.7777777777777778,
              "#fb9f3a"
             ],
             [
              0.8888888888888888,
              "#fdca26"
             ],
             [
              1,
              "#f0f921"
             ]
            ],
            "type": "heatmap"
           }
          ],
          "heatmapgl": [
           {
            "colorbar": {
             "outlinewidth": 0,
             "ticks": ""
            },
            "colorscale": [
             [
              0,
              "#0d0887"
             ],
             [
              0.1111111111111111,
              "#46039f"
             ],
             [
              0.2222222222222222,
              "#7201a8"
             ],
             [
              0.3333333333333333,
              "#9c179e"
             ],
             [
              0.4444444444444444,
              "#bd3786"
             ],
             [
              0.5555555555555556,
              "#d8576b"
             ],
             [
              0.6666666666666666,
              "#ed7953"
             ],
             [
              0.7777777777777778,
              "#fb9f3a"
             ],
             [
              0.8888888888888888,
              "#fdca26"
             ],
             [
              1,
              "#f0f921"
             ]
            ],
            "type": "heatmapgl"
           }
          ],
          "histogram": [
           {
            "marker": {
             "pattern": {
              "fillmode": "overlay",
              "size": 10,
              "solidity": 0.2
             }
            },
            "type": "histogram"
           }
          ],
          "histogram2d": [
           {
            "colorbar": {
             "outlinewidth": 0,
             "ticks": ""
            },
            "colorscale": [
             [
              0,
              "#0d0887"
             ],
             [
              0.1111111111111111,
              "#46039f"
             ],
             [
              0.2222222222222222,
              "#7201a8"
             ],
             [
              0.3333333333333333,
              "#9c179e"
             ],
             [
              0.4444444444444444,
              "#bd3786"
             ],
             [
              0.5555555555555556,
              "#d8576b"
             ],
             [
              0.6666666666666666,
              "#ed7953"
             ],
             [
              0.7777777777777778,
              "#fb9f3a"
             ],
             [
              0.8888888888888888,
              "#fdca26"
             ],
             [
              1,
              "#f0f921"
             ]
            ],
            "type": "histogram2d"
           }
          ],
          "histogram2dcontour": [
           {
            "colorbar": {
             "outlinewidth": 0,
             "ticks": ""
            },
            "colorscale": [
             [
              0,
              "#0d0887"
             ],
             [
              0.1111111111111111,
              "#46039f"
             ],
             [
              0.2222222222222222,
              "#7201a8"
             ],
             [
              0.3333333333333333,
              "#9c179e"
             ],
             [
              0.4444444444444444,
              "#bd3786"
             ],
             [
              0.5555555555555556,
              "#d8576b"
             ],
             [
              0.6666666666666666,
              "#ed7953"
             ],
             [
              0.7777777777777778,
              "#fb9f3a"
             ],
             [
              0.8888888888888888,
              "#fdca26"
             ],
             [
              1,
              "#f0f921"
             ]
            ],
            "type": "histogram2dcontour"
           }
          ],
          "mesh3d": [
           {
            "colorbar": {
             "outlinewidth": 0,
             "ticks": ""
            },
            "type": "mesh3d"
           }
          ],
          "parcoords": [
           {
            "line": {
             "colorbar": {
              "outlinewidth": 0,
              "ticks": ""
             }
            },
            "type": "parcoords"
           }
          ],
          "pie": [
           {
            "automargin": true,
            "type": "pie"
           }
          ],
          "scatter": [
           {
            "fillpattern": {
             "fillmode": "overlay",
             "size": 10,
             "solidity": 0.2
            },
            "type": "scatter"
           }
          ],
          "scatter3d": [
           {
            "line": {
             "colorbar": {
              "outlinewidth": 0,
              "ticks": ""
             }
            },
            "marker": {
             "colorbar": {
              "outlinewidth": 0,
              "ticks": ""
             }
            },
            "type": "scatter3d"
           }
          ],
          "scattercarpet": [
           {
            "marker": {
             "colorbar": {
              "outlinewidth": 0,
              "ticks": ""
             }
            },
            "type": "scattercarpet"
           }
          ],
          "scattergeo": [
           {
            "marker": {
             "colorbar": {
              "outlinewidth": 0,
              "ticks": ""
             }
            },
            "type": "scattergeo"
           }
          ],
          "scattergl": [
           {
            "marker": {
             "colorbar": {
              "outlinewidth": 0,
              "ticks": ""
             }
            },
            "type": "scattergl"
           }
          ],
          "scattermapbox": [
           {
            "marker": {
             "colorbar": {
              "outlinewidth": 0,
              "ticks": ""
             }
            },
            "type": "scattermapbox"
           }
          ],
          "scatterpolar": [
           {
            "marker": {
             "colorbar": {
              "outlinewidth": 0,
              "ticks": ""
             }
            },
            "type": "scatterpolar"
           }
          ],
          "scatterpolargl": [
           {
            "marker": {
             "colorbar": {
              "outlinewidth": 0,
              "ticks": ""
             }
            },
            "type": "scatterpolargl"
           }
          ],
          "scatterternary": [
           {
            "marker": {
             "colorbar": {
              "outlinewidth": 0,
              "ticks": ""
             }
            },
            "type": "scatterternary"
           }
          ],
          "surface": [
           {
            "colorbar": {
             "outlinewidth": 0,
             "ticks": ""
            },
            "colorscale": [
             [
              0,
              "#0d0887"
             ],
             [
              0.1111111111111111,
              "#46039f"
             ],
             [
              0.2222222222222222,
              "#7201a8"
             ],
             [
              0.3333333333333333,
              "#9c179e"
             ],
             [
              0.4444444444444444,
              "#bd3786"
             ],
             [
              0.5555555555555556,
              "#d8576b"
             ],
             [
              0.6666666666666666,
              "#ed7953"
             ],
             [
              0.7777777777777778,
              "#fb9f3a"
             ],
             [
              0.8888888888888888,
              "#fdca26"
             ],
             [
              1,
              "#f0f921"
             ]
            ],
            "type": "surface"
           }
          ],
          "table": [
           {
            "cells": {
             "fill": {
              "color": "#EBF0F8"
             },
             "line": {
              "color": "white"
             }
            },
            "header": {
             "fill": {
              "color": "#C8D4E3"
             },
             "line": {
              "color": "white"
             }
            },
            "type": "table"
           }
          ]
         },
         "layout": {
          "annotationdefaults": {
           "arrowcolor": "#2a3f5f",
           "arrowhead": 0,
           "arrowwidth": 1
          },
          "autotypenumbers": "strict",
          "coloraxis": {
           "colorbar": {
            "outlinewidth": 0,
            "ticks": ""
           }
          },
          "colorscale": {
           "diverging": [
            [
             0,
             "#8e0152"
            ],
            [
             0.1,
             "#c51b7d"
            ],
            [
             0.2,
             "#de77ae"
            ],
            [
             0.3,
             "#f1b6da"
            ],
            [
             0.4,
             "#fde0ef"
            ],
            [
             0.5,
             "#f7f7f7"
            ],
            [
             0.6,
             "#e6f5d0"
            ],
            [
             0.7,
             "#b8e186"
            ],
            [
             0.8,
             "#7fbc41"
            ],
            [
             0.9,
             "#4d9221"
            ],
            [
             1,
             "#276419"
            ]
           ],
           "sequential": [
            [
             0,
             "#0d0887"
            ],
            [
             0.1111111111111111,
             "#46039f"
            ],
            [
             0.2222222222222222,
             "#7201a8"
            ],
            [
             0.3333333333333333,
             "#9c179e"
            ],
            [
             0.4444444444444444,
             "#bd3786"
            ],
            [
             0.5555555555555556,
             "#d8576b"
            ],
            [
             0.6666666666666666,
             "#ed7953"
            ],
            [
             0.7777777777777778,
             "#fb9f3a"
            ],
            [
             0.8888888888888888,
             "#fdca26"
            ],
            [
             1,
             "#f0f921"
            ]
           ],
           "sequentialminus": [
            [
             0,
             "#0d0887"
            ],
            [
             0.1111111111111111,
             "#46039f"
            ],
            [
             0.2222222222222222,
             "#7201a8"
            ],
            [
             0.3333333333333333,
             "#9c179e"
            ],
            [
             0.4444444444444444,
             "#bd3786"
            ],
            [
             0.5555555555555556,
             "#d8576b"
            ],
            [
             0.6666666666666666,
             "#ed7953"
            ],
            [
             0.7777777777777778,
             "#fb9f3a"
            ],
            [
             0.8888888888888888,
             "#fdca26"
            ],
            [
             1,
             "#f0f921"
            ]
           ]
          },
          "colorway": [
           "#636efa",
           "#EF553B",
           "#00cc96",
           "#ab63fa",
           "#FFA15A",
           "#19d3f3",
           "#FF6692",
           "#B6E880",
           "#FF97FF",
           "#FECB52"
          ],
          "font": {
           "color": "#2a3f5f"
          },
          "geo": {
           "bgcolor": "white",
           "lakecolor": "white",
           "landcolor": "#E5ECF6",
           "showlakes": true,
           "showland": true,
           "subunitcolor": "white"
          },
          "hoverlabel": {
           "align": "left"
          },
          "hovermode": "closest",
          "mapbox": {
           "style": "light"
          },
          "paper_bgcolor": "white",
          "plot_bgcolor": "#E5ECF6",
          "polar": {
           "angularaxis": {
            "gridcolor": "white",
            "linecolor": "white",
            "ticks": ""
           },
           "bgcolor": "#E5ECF6",
           "radialaxis": {
            "gridcolor": "white",
            "linecolor": "white",
            "ticks": ""
           }
          },
          "scene": {
           "xaxis": {
            "backgroundcolor": "#E5ECF6",
            "gridcolor": "white",
            "gridwidth": 2,
            "linecolor": "white",
            "showbackground": true,
            "ticks": "",
            "zerolinecolor": "white"
           },
           "yaxis": {
            "backgroundcolor": "#E5ECF6",
            "gridcolor": "white",
            "gridwidth": 2,
            "linecolor": "white",
            "showbackground": true,
            "ticks": "",
            "zerolinecolor": "white"
           },
           "zaxis": {
            "backgroundcolor": "#E5ECF6",
            "gridcolor": "white",
            "gridwidth": 2,
            "linecolor": "white",
            "showbackground": true,
            "ticks": "",
            "zerolinecolor": "white"
           }
          },
          "shapedefaults": {
           "line": {
            "color": "#2a3f5f"
           }
          },
          "ternary": {
           "aaxis": {
            "gridcolor": "white",
            "linecolor": "white",
            "ticks": ""
           },
           "baxis": {
            "gridcolor": "white",
            "linecolor": "white",
            "ticks": ""
           },
           "bgcolor": "#E5ECF6",
           "caxis": {
            "gridcolor": "white",
            "linecolor": "white",
            "ticks": ""
           }
          },
          "title": {
           "x": 0.05
          },
          "xaxis": {
           "automargin": true,
           "gridcolor": "white",
           "linecolor": "white",
           "ticks": "",
           "title": {
            "standoff": 15
           },
           "zerolinecolor": "white",
           "zerolinewidth": 2
          },
          "yaxis": {
           "automargin": true,
           "gridcolor": "white",
           "linecolor": "white",
           "ticks": "",
           "title": {
            "standoff": 15
           },
           "zerolinecolor": "white",
           "zerolinewidth": 2
          }
         }
        },
        "title": {
         "text": "Monthly Shooting Incidents by Year"
        },
        "xaxis": {
         "gridcolor": "gray",
         "tickmode": "array",
         "ticktext": [
          "Jan",
          "Feb",
          "Mar",
          "Apr",
          "May",
          "Jun",
          "Jul",
          "Aug",
          "Sep",
          "Oct",
          "Nov",
          "Dec"
         ],
         "tickvals": [
          1,
          2,
          3,
          4,
          5,
          6,
          7,
          8,
          9,
          10,
          11,
          12
         ],
         "title": {
          "text": "Month"
         }
        },
        "yaxis": {
         "gridcolor": "gray",
         "title": {
          "text": "Number of Incidents"
         }
        }
       }
      }
     },
     "metadata": {},
     "output_type": "display_data"
    }
   ],
   "source": [
    "# Convert 'OCCUR_DATE' to datetime if it's not already\n",
    "cleaned_data['OCCUR_DATE'] = pd.to_datetime(cleaned_data['OCCUR_DATE'])\n",
    "\n",
    "\n",
    "# Extract year and month\n",
    "cleaned_data['YEAR'] = cleaned_data['OCCUR_DATE'].dt.year\n",
    "cleaned_data['MONTH'] = cleaned_data['OCCUR_DATE'].dt.month\n",
    "\n",
    "# Group by year and month and count the occurrences\n",
    "monthly_crime_data = cleaned_data.groupby(['YEAR', 'MONTH']).size().reset_index(name='INCIDENTS')\n",
    "\n",
    "\n",
    "# keep only last 5 years\n",
    "monthly_crime_data = monthly_crime_data[monthly_crime_data['YEAR'] >=2018]\n",
    "\n",
    "# Calculate maximum incidents per year for color scaling\n",
    "max_incidents_per_year = monthly_crime_data.groupby('YEAR')['INCIDENTS'].max()\n",
    "\n",
    "# Normalize these values to a 0-1 range for color mapping, set a minimum opacity\n",
    "min_opacity = 0.2  # Adjust minimum opacity here\n",
    "norm = (max_incidents_per_year - max_incidents_per_year.min()) / (max_incidents_per_year.max() - max_incidents_per_year.min()) * (1 - min_opacity) + min_opacity\n",
    "\n",
    "# Map these normalized values back to the main DataFrame\n",
    "monthly_crime_data['COLOR'] = monthly_crime_data['YEAR'].map(norm)\n",
    "\n",
    "# Make sure we have enough colors for the number of years, repeat if needed\n",
    "unique_years = monthly_crime_data['YEAR'].unique()\n",
    "if len(discrete_colorscale) < len(unique_years):\n",
    "    num_repeats = -(-len(unique_years) // len(discrete_colorscale))  # Ceiling division\n",
    "    discrete_colorscale = (discrete_colorscale * num_repeats)[:len(unique_years)]\n",
    "\n",
    "# Map years to colors\n",
    "# year_to_color = {year: color for year, color in zip(unique_years, discrete_colorscale)}\n",
    "# year_to_color[2020] = emphasis_color  # Assign the emphasis color to 2020\n",
    "\n",
    "# Create the plot using Graph Objects for more control\n",
    "fig = go.Figure()\n",
    "\n",
    "# Add each year as a separate trace\n",
    "for year in unique_years:\n",
    "    year_data = monthly_crime_data[monthly_crime_data['YEAR'] == year]\n",
    "    fig.add_trace(go.Scatter(\n",
    "        x=year_data['MONTH'], \n",
    "        y=year_data['INCIDENTS'], \n",
    "        mode='lines',\n",
    "        name=str(year),\n",
    "        line=dict(color=year_to_color[year])  # Apply color based on the year\n",
    "    ))\n",
    "\n",
    "# Update the layout to add customizations\n",
    "fig.update_layout(\n",
    "    title='Monthly Shooting Incidents by Year',\n",
    "    xaxis=dict(\n",
    "        title='Month',\n",
    "        tickmode='array',\n",
    "        tickvals=list(range(1, 13)),\n",
    "        ticktext=['Jan', 'Feb', 'Mar', 'Apr', 'May', 'Jun', 'Jul', 'Aug', 'Sep', 'Oct', 'Nov', 'Dec'],\n",
    "        gridcolor='gray',\n",
    "    ),\n",
    "    yaxis=dict(\n",
    "        title='Number of Incidents',\n",
    "        gridcolor='gray',\n",
    "    ),\n",
    "    legend_title_text='Year',\n",
    "    plot_bgcolor='black',  # Set the plotting area background to black\n",
    "    paper_bgcolor='black',  # Set the entire chart background to black\n",
    "    font=dict(\n",
    "        color='white'  # Ensure all default text (like legend, annotations) is white\n",
    "    )\n",
    "    # margin=dict(l=30, r=20, t=60, b=20)\n",
    ")\n",
    "\n",
    "fig.show()\n",
    "pio.write_html(fig, file='monthly_shootings_per_year.html', auto_open=False)\n",
    "\n",
    "\n"
   ]
  },
  {
   "cell_type": "code",
   "execution_count": 39,
   "metadata": {},
   "outputs": [
    {
     "data": {
      "application/vnd.plotly.v1+json": {
       "config": {
        "plotlyServerURL": "https://plot.ly"
       },
       "data": [
        {
         "customdata": [
          [
           0
          ],
          [
           0
          ],
          [
           0
          ],
          [
           0
          ],
          [
           0
          ],
          [
           0
          ],
          [
           0
          ],
          [
           0
          ],
          [
           0
          ],
          [
           0
          ],
          [
           0
          ],
          [
           0
          ],
          [
           0
          ],
          [
           0
          ],
          [
           0
          ],
          [
           0
          ],
          [
           0
          ]
         ],
         "fillpattern": {
          "shape": ""
         },
         "hovertemplate": "Victim Race=AMERICAN INDIAN/ALASKAN NATIVE<br>Year=%{x}<br>Number of Incidents=%{y}<br>Percentage=%{customdata[0]}<extra></extra>",
         "legendgroup": "AMERICAN INDIAN/ALASKAN NATIVE",
         "line": {
          "color": "rgb(143,188,143)"
         },
         "marker": {
          "symbol": "circle"
         },
         "mode": "lines",
         "name": "AMERICAN INDIAN/ALASKAN NATIVE",
         "orientation": "v",
         "showlegend": true,
         "stackgroup": "1",
         "type": "scatter",
         "x": [
          2006,
          2007,
          2008,
          2009,
          2010,
          2011,
          2012,
          2013,
          2014,
          2015,
          2016,
          2017,
          2018,
          2019,
          2020,
          2021,
          2022
         ],
         "xaxis": "x",
         "y": [
          0,
          1,
          0,
          2,
          1,
          2,
          1,
          0,
          0,
          0,
          1,
          0,
          1,
          0,
          0,
          0,
          0
         ],
         "yaxis": "y"
        },
        {
         "customdata": [
          [
           1
          ],
          [
           1
          ],
          [
           2
          ],
          [
           1
          ],
          [
           1
          ],
          [
           2
          ],
          [
           1
          ],
          [
           2
          ],
          [
           1
          ],
          [
           1
          ],
          [
           1
          ],
          [
           2
          ],
          [
           2
          ],
          [
           2
          ],
          [
           2
          ],
          [
           1
          ],
          [
           3
          ]
         ],
         "fillpattern": {
          "shape": ""
         },
         "hovertemplate": "Victim Race=ASIAN / PACIFIC ISLANDER<br>Year=%{x}<br>Number of Incidents=%{y}<br>Percentage=%{customdata[0]}<extra></extra>",
         "legendgroup": "ASIAN / PACIFIC ISLANDER",
         "line": {
          "color": "rgb(119,136,153)"
         },
         "marker": {
          "symbol": "circle"
         },
         "mode": "lines",
         "name": "ASIAN / PACIFIC ISLANDER",
         "orientation": "v",
         "showlegend": true,
         "stackgroup": "1",
         "type": "scatter",
         "x": [
          2006,
          2007,
          2008,
          2009,
          2010,
          2011,
          2012,
          2013,
          2014,
          2015,
          2016,
          2017,
          2018,
          2019,
          2020,
          2021,
          2022
         ],
         "xaxis": "x",
         "y": [
          26,
          18,
          32,
          15,
          25,
          30,
          14,
          22,
          19,
          19,
          14,
          19,
          16,
          20,
          38,
          27,
          12
         ],
         "yaxis": "y"
        },
        {
         "customdata": [
          [
           2
          ],
          [
           3
          ],
          [
           2
          ],
          [
           3
          ],
          [
           3
          ],
          [
           3
          ],
          [
           3
          ],
          [
           3
          ],
          [
           2
          ],
          [
           3
          ],
          [
           3
          ],
          [
           2
          ],
          [
           3
          ],
          [
           3
          ],
          [
           2
          ],
          [
           2
          ],
          [
           3
          ]
         ],
         "fillpattern": {
          "shape": ""
         },
         "hovertemplate": "Victim Race=WHITE<br>Year=%{x}<br>Number of Incidents=%{y}<br>Percentage=%{customdata[0]}<extra></extra>",
         "legendgroup": "WHITE",
         "line": {
          "color": "rgb(192,192,192)"
         },
         "marker": {
          "symbol": "circle"
         },
         "mode": "lines",
         "name": "WHITE",
         "orientation": "v",
         "showlegend": true,
         "stackgroup": "1",
         "type": "scatter",
         "x": [
          2006,
          2007,
          2008,
          2009,
          2010,
          2011,
          2012,
          2013,
          2014,
          2015,
          2016,
          2017,
          2018,
          2019,
          2020,
          2021,
          2022
         ],
         "xaxis": "x",
         "y": [
          46,
          54,
          44,
          62,
          56,
          60,
          46,
          35,
          24,
          42,
          37,
          22,
          25,
          28,
          39,
          40,
          14
         ],
         "yaxis": "y"
        },
        {
         "customdata": [
          [
           6
          ],
          [
           10
          ],
          [
           8
          ],
          [
           10
          ],
          [
           13
          ],
          [
           12
          ],
          [
           9
          ],
          [
           10
          ],
          [
           13
          ],
          [
           12
          ],
          [
           7
          ],
          [
           9
          ],
          [
           8
          ],
          [
           8
          ],
          [
           8
          ],
          [
           12
          ],
          [
           8
          ]
         ],
         "fillpattern": {
          "shape": ""
         },
         "hovertemplate": "Victim Race=BLACK HISPANIC<br>Year=%{x}<br>Number of Incidents=%{y}<br>Percentage=%{customdata[0]}<extra></extra>",
         "legendgroup": "BLACK HISPANIC",
         "line": {
          "color": "rgb(47,79,79)"
         },
         "marker": {
          "symbol": "circle"
         },
         "mode": "lines",
         "name": "BLACK HISPANIC",
         "orientation": "v",
         "showlegend": true,
         "stackgroup": "1",
         "type": "scatter",
         "x": [
          2006,
          2007,
          2008,
          2009,
          2010,
          2011,
          2012,
          2013,
          2014,
          2015,
          2016,
          2017,
          2018,
          2019,
          2020,
          2021,
          2022
         ],
         "xaxis": "x",
         "y": [
          114,
          187,
          149,
          187,
          254,
          239,
          147,
          133,
          186,
          166,
          87,
          87,
          76,
          76,
          157,
          240,
          37
         ],
         "yaxis": "y"
        },
        {
         "customdata": [
          [
           22
          ],
          [
           15
          ],
          [
           14
          ],
          [
           14
          ],
          [
           10
          ],
          [
           10
          ],
          [
           15
          ],
          [
           13
          ],
          [
           10
          ],
          [
           13
          ],
          [
           18
          ],
          [
           14
          ],
          [
           17
          ],
          [
           17
          ],
          [
           17
          ],
          [
           15
          ],
          [
           17
          ]
         ],
         "fillpattern": {
          "shape": ""
         },
         "hovertemplate": "Victim Race=WHITE HISPANIC<br>Year=%{x}<br>Number of Incidents=%{y}<br>Percentage=%{customdata[0]}<extra></extra>",
         "legendgroup": "WHITE HISPANIC",
         "line": {
          "color": "rgb(105,105,105)"
         },
         "marker": {
          "symbol": "circle"
         },
         "mode": "lines",
         "name": "WHITE HISPANIC",
         "orientation": "v",
         "showlegend": true,
         "stackgroup": "1",
         "type": "scatter",
         "x": [
          2006,
          2007,
          2008,
          2009,
          2010,
          2011,
          2012,
          2013,
          2014,
          2015,
          2016,
          2017,
          2018,
          2019,
          2020,
          2021,
          2022
         ],
         "xaxis": "x",
         "y": [
          445,
          284,
          282,
          264,
          198,
          196,
          265,
          168,
          145,
          186,
          215,
          133,
          166,
          166,
          334,
          292,
          75
         ],
         "yaxis": "y"
        },
        {
         "customdata": [
          [
           69
          ],
          [
           71
          ],
          [
           74
          ],
          [
           70
          ],
          [
           72
          ],
          [
           73
          ],
          [
           72
          ],
          [
           73
          ],
          [
           74
          ],
          [
           71
          ],
          [
           70
          ],
          [
           73
          ],
          [
           70
          ],
          [
           70
          ],
          [
           71
          ],
          [
           70
          ],
          [
           70
          ]
         ],
         "fillpattern": {
          "shape": ""
         },
         "hovertemplate": "Victim Race=BLACK<br>Year=%{x}<br>Number of Incidents=%{y}<br>Percentage=%{customdata[0]}<extra></extra>",
         "legendgroup": "BLACK",
         "line": {
          "color": "rgb(255,165,0)"
         },
         "marker": {
          "symbol": "circle"
         },
         "mode": "lines",
         "name": "BLACK",
         "orientation": "v",
         "showlegend": true,
         "stackgroup": "1",
         "type": "scatter",
         "x": [
          2006,
          2007,
          2008,
          2009,
          2010,
          2011,
          2012,
          2013,
          2014,
          2015,
          2016,
          2017,
          2018,
          2019,
          2020,
          2021,
          2022
         ],
         "xaxis": "x",
         "y": [
          1422,
          1337,
          1449,
          1288,
          1375,
          1409,
          1235,
          975,
          1082,
          1013,
          850,
          705,
          672,
          675,
          1380,
          1412,
          316
         ],
         "yaxis": "y"
        }
       ],
       "layout": {
        "font": {
         "color": "white"
        },
        "legend": {
         "title": {
          "text": "Victim Race"
         },
         "tracegroupgap": 0
        },
        "paper_bgcolor": "black",
        "plot_bgcolor": "black",
        "template": {
         "data": {
          "bar": [
           {
            "error_x": {
             "color": "#2a3f5f"
            },
            "error_y": {
             "color": "#2a3f5f"
            },
            "marker": {
             "line": {
              "color": "#E5ECF6",
              "width": 0.5
             },
             "pattern": {
              "fillmode": "overlay",
              "size": 10,
              "solidity": 0.2
             }
            },
            "type": "bar"
           }
          ],
          "barpolar": [
           {
            "marker": {
             "line": {
              "color": "#E5ECF6",
              "width": 0.5
             },
             "pattern": {
              "fillmode": "overlay",
              "size": 10,
              "solidity": 0.2
             }
            },
            "type": "barpolar"
           }
          ],
          "carpet": [
           {
            "aaxis": {
             "endlinecolor": "#2a3f5f",
             "gridcolor": "white",
             "linecolor": "white",
             "minorgridcolor": "white",
             "startlinecolor": "#2a3f5f"
            },
            "baxis": {
             "endlinecolor": "#2a3f5f",
             "gridcolor": "white",
             "linecolor": "white",
             "minorgridcolor": "white",
             "startlinecolor": "#2a3f5f"
            },
            "type": "carpet"
           }
          ],
          "choropleth": [
           {
            "colorbar": {
             "outlinewidth": 0,
             "ticks": ""
            },
            "type": "choropleth"
           }
          ],
          "contour": [
           {
            "colorbar": {
             "outlinewidth": 0,
             "ticks": ""
            },
            "colorscale": [
             [
              0,
              "#0d0887"
             ],
             [
              0.1111111111111111,
              "#46039f"
             ],
             [
              0.2222222222222222,
              "#7201a8"
             ],
             [
              0.3333333333333333,
              "#9c179e"
             ],
             [
              0.4444444444444444,
              "#bd3786"
             ],
             [
              0.5555555555555556,
              "#d8576b"
             ],
             [
              0.6666666666666666,
              "#ed7953"
             ],
             [
              0.7777777777777778,
              "#fb9f3a"
             ],
             [
              0.8888888888888888,
              "#fdca26"
             ],
             [
              1,
              "#f0f921"
             ]
            ],
            "type": "contour"
           }
          ],
          "contourcarpet": [
           {
            "colorbar": {
             "outlinewidth": 0,
             "ticks": ""
            },
            "type": "contourcarpet"
           }
          ],
          "heatmap": [
           {
            "colorbar": {
             "outlinewidth": 0,
             "ticks": ""
            },
            "colorscale": [
             [
              0,
              "#0d0887"
             ],
             [
              0.1111111111111111,
              "#46039f"
             ],
             [
              0.2222222222222222,
              "#7201a8"
             ],
             [
              0.3333333333333333,
              "#9c179e"
             ],
             [
              0.4444444444444444,
              "#bd3786"
             ],
             [
              0.5555555555555556,
              "#d8576b"
             ],
             [
              0.6666666666666666,
              "#ed7953"
             ],
             [
              0.7777777777777778,
              "#fb9f3a"
             ],
             [
              0.8888888888888888,
              "#fdca26"
             ],
             [
              1,
              "#f0f921"
             ]
            ],
            "type": "heatmap"
           }
          ],
          "heatmapgl": [
           {
            "colorbar": {
             "outlinewidth": 0,
             "ticks": ""
            },
            "colorscale": [
             [
              0,
              "#0d0887"
             ],
             [
              0.1111111111111111,
              "#46039f"
             ],
             [
              0.2222222222222222,
              "#7201a8"
             ],
             [
              0.3333333333333333,
              "#9c179e"
             ],
             [
              0.4444444444444444,
              "#bd3786"
             ],
             [
              0.5555555555555556,
              "#d8576b"
             ],
             [
              0.6666666666666666,
              "#ed7953"
             ],
             [
              0.7777777777777778,
              "#fb9f3a"
             ],
             [
              0.8888888888888888,
              "#fdca26"
             ],
             [
              1,
              "#f0f921"
             ]
            ],
            "type": "heatmapgl"
           }
          ],
          "histogram": [
           {
            "marker": {
             "pattern": {
              "fillmode": "overlay",
              "size": 10,
              "solidity": 0.2
             }
            },
            "type": "histogram"
           }
          ],
          "histogram2d": [
           {
            "colorbar": {
             "outlinewidth": 0,
             "ticks": ""
            },
            "colorscale": [
             [
              0,
              "#0d0887"
             ],
             [
              0.1111111111111111,
              "#46039f"
             ],
             [
              0.2222222222222222,
              "#7201a8"
             ],
             [
              0.3333333333333333,
              "#9c179e"
             ],
             [
              0.4444444444444444,
              "#bd3786"
             ],
             [
              0.5555555555555556,
              "#d8576b"
             ],
             [
              0.6666666666666666,
              "#ed7953"
             ],
             [
              0.7777777777777778,
              "#fb9f3a"
             ],
             [
              0.8888888888888888,
              "#fdca26"
             ],
             [
              1,
              "#f0f921"
             ]
            ],
            "type": "histogram2d"
           }
          ],
          "histogram2dcontour": [
           {
            "colorbar": {
             "outlinewidth": 0,
             "ticks": ""
            },
            "colorscale": [
             [
              0,
              "#0d0887"
             ],
             [
              0.1111111111111111,
              "#46039f"
             ],
             [
              0.2222222222222222,
              "#7201a8"
             ],
             [
              0.3333333333333333,
              "#9c179e"
             ],
             [
              0.4444444444444444,
              "#bd3786"
             ],
             [
              0.5555555555555556,
              "#d8576b"
             ],
             [
              0.6666666666666666,
              "#ed7953"
             ],
             [
              0.7777777777777778,
              "#fb9f3a"
             ],
             [
              0.8888888888888888,
              "#fdca26"
             ],
             [
              1,
              "#f0f921"
             ]
            ],
            "type": "histogram2dcontour"
           }
          ],
          "mesh3d": [
           {
            "colorbar": {
             "outlinewidth": 0,
             "ticks": ""
            },
            "type": "mesh3d"
           }
          ],
          "parcoords": [
           {
            "line": {
             "colorbar": {
              "outlinewidth": 0,
              "ticks": ""
             }
            },
            "type": "parcoords"
           }
          ],
          "pie": [
           {
            "automargin": true,
            "type": "pie"
           }
          ],
          "scatter": [
           {
            "fillpattern": {
             "fillmode": "overlay",
             "size": 10,
             "solidity": 0.2
            },
            "type": "scatter"
           }
          ],
          "scatter3d": [
           {
            "line": {
             "colorbar": {
              "outlinewidth": 0,
              "ticks": ""
             }
            },
            "marker": {
             "colorbar": {
              "outlinewidth": 0,
              "ticks": ""
             }
            },
            "type": "scatter3d"
           }
          ],
          "scattercarpet": [
           {
            "marker": {
             "colorbar": {
              "outlinewidth": 0,
              "ticks": ""
             }
            },
            "type": "scattercarpet"
           }
          ],
          "scattergeo": [
           {
            "marker": {
             "colorbar": {
              "outlinewidth": 0,
              "ticks": ""
             }
            },
            "type": "scattergeo"
           }
          ],
          "scattergl": [
           {
            "marker": {
             "colorbar": {
              "outlinewidth": 0,
              "ticks": ""
             }
            },
            "type": "scattergl"
           }
          ],
          "scattermapbox": [
           {
            "marker": {
             "colorbar": {
              "outlinewidth": 0,
              "ticks": ""
             }
            },
            "type": "scattermapbox"
           }
          ],
          "scatterpolar": [
           {
            "marker": {
             "colorbar": {
              "outlinewidth": 0,
              "ticks": ""
             }
            },
            "type": "scatterpolar"
           }
          ],
          "scatterpolargl": [
           {
            "marker": {
             "colorbar": {
              "outlinewidth": 0,
              "ticks": ""
             }
            },
            "type": "scatterpolargl"
           }
          ],
          "scatterternary": [
           {
            "marker": {
             "colorbar": {
              "outlinewidth": 0,
              "ticks": ""
             }
            },
            "type": "scatterternary"
           }
          ],
          "surface": [
           {
            "colorbar": {
             "outlinewidth": 0,
             "ticks": ""
            },
            "colorscale": [
             [
              0,
              "#0d0887"
             ],
             [
              0.1111111111111111,
              "#46039f"
             ],
             [
              0.2222222222222222,
              "#7201a8"
             ],
             [
              0.3333333333333333,
              "#9c179e"
             ],
             [
              0.4444444444444444,
              "#bd3786"
             ],
             [
              0.5555555555555556,
              "#d8576b"
             ],
             [
              0.6666666666666666,
              "#ed7953"
             ],
             [
              0.7777777777777778,
              "#fb9f3a"
             ],
             [
              0.8888888888888888,
              "#fdca26"
             ],
             [
              1,
              "#f0f921"
             ]
            ],
            "type": "surface"
           }
          ],
          "table": [
           {
            "cells": {
             "fill": {
              "color": "#EBF0F8"
             },
             "line": {
              "color": "white"
             }
            },
            "header": {
             "fill": {
              "color": "#C8D4E3"
             },
             "line": {
              "color": "white"
             }
            },
            "type": "table"
           }
          ]
         },
         "layout": {
          "annotationdefaults": {
           "arrowcolor": "#2a3f5f",
           "arrowhead": 0,
           "arrowwidth": 1
          },
          "autotypenumbers": "strict",
          "coloraxis": {
           "colorbar": {
            "outlinewidth": 0,
            "ticks": ""
           }
          },
          "colorscale": {
           "diverging": [
            [
             0,
             "#8e0152"
            ],
            [
             0.1,
             "#c51b7d"
            ],
            [
             0.2,
             "#de77ae"
            ],
            [
             0.3,
             "#f1b6da"
            ],
            [
             0.4,
             "#fde0ef"
            ],
            [
             0.5,
             "#f7f7f7"
            ],
            [
             0.6,
             "#e6f5d0"
            ],
            [
             0.7,
             "#b8e186"
            ],
            [
             0.8,
             "#7fbc41"
            ],
            [
             0.9,
             "#4d9221"
            ],
            [
             1,
             "#276419"
            ]
           ],
           "sequential": [
            [
             0,
             "#0d0887"
            ],
            [
             0.1111111111111111,
             "#46039f"
            ],
            [
             0.2222222222222222,
             "#7201a8"
            ],
            [
             0.3333333333333333,
             "#9c179e"
            ],
            [
             0.4444444444444444,
             "#bd3786"
            ],
            [
             0.5555555555555556,
             "#d8576b"
            ],
            [
             0.6666666666666666,
             "#ed7953"
            ],
            [
             0.7777777777777778,
             "#fb9f3a"
            ],
            [
             0.8888888888888888,
             "#fdca26"
            ],
            [
             1,
             "#f0f921"
            ]
           ],
           "sequentialminus": [
            [
             0,
             "#0d0887"
            ],
            [
             0.1111111111111111,
             "#46039f"
            ],
            [
             0.2222222222222222,
             "#7201a8"
            ],
            [
             0.3333333333333333,
             "#9c179e"
            ],
            [
             0.4444444444444444,
             "#bd3786"
            ],
            [
             0.5555555555555556,
             "#d8576b"
            ],
            [
             0.6666666666666666,
             "#ed7953"
            ],
            [
             0.7777777777777778,
             "#fb9f3a"
            ],
            [
             0.8888888888888888,
             "#fdca26"
            ],
            [
             1,
             "#f0f921"
            ]
           ]
          },
          "colorway": [
           "#636efa",
           "#EF553B",
           "#00cc96",
           "#ab63fa",
           "#FFA15A",
           "#19d3f3",
           "#FF6692",
           "#B6E880",
           "#FF97FF",
           "#FECB52"
          ],
          "font": {
           "color": "#2a3f5f"
          },
          "geo": {
           "bgcolor": "white",
           "lakecolor": "white",
           "landcolor": "#E5ECF6",
           "showlakes": true,
           "showland": true,
           "subunitcolor": "white"
          },
          "hoverlabel": {
           "align": "left"
          },
          "hovermode": "closest",
          "mapbox": {
           "style": "light"
          },
          "paper_bgcolor": "white",
          "plot_bgcolor": "#E5ECF6",
          "polar": {
           "angularaxis": {
            "gridcolor": "white",
            "linecolor": "white",
            "ticks": ""
           },
           "bgcolor": "#E5ECF6",
           "radialaxis": {
            "gridcolor": "white",
            "linecolor": "white",
            "ticks": ""
           }
          },
          "scene": {
           "xaxis": {
            "backgroundcolor": "#E5ECF6",
            "gridcolor": "white",
            "gridwidth": 2,
            "linecolor": "white",
            "showbackground": true,
            "ticks": "",
            "zerolinecolor": "white"
           },
           "yaxis": {
            "backgroundcolor": "#E5ECF6",
            "gridcolor": "white",
            "gridwidth": 2,
            "linecolor": "white",
            "showbackground": true,
            "ticks": "",
            "zerolinecolor": "white"
           },
           "zaxis": {
            "backgroundcolor": "#E5ECF6",
            "gridcolor": "white",
            "gridwidth": 2,
            "linecolor": "white",
            "showbackground": true,
            "ticks": "",
            "zerolinecolor": "white"
           }
          },
          "shapedefaults": {
           "line": {
            "color": "#2a3f5f"
           }
          },
          "ternary": {
           "aaxis": {
            "gridcolor": "white",
            "linecolor": "white",
            "ticks": ""
           },
           "baxis": {
            "gridcolor": "white",
            "linecolor": "white",
            "ticks": ""
           },
           "bgcolor": "#E5ECF6",
           "caxis": {
            "gridcolor": "white",
            "linecolor": "white",
            "ticks": ""
           }
          },
          "title": {
           "x": 0.05
          },
          "xaxis": {
           "automargin": true,
           "gridcolor": "white",
           "linecolor": "white",
           "ticks": "",
           "title": {
            "standoff": 15
           },
           "zerolinecolor": "white",
           "zerolinewidth": 2
          },
          "yaxis": {
           "automargin": true,
           "gridcolor": "white",
           "linecolor": "white",
           "ticks": "",
           "title": {
            "standoff": 15
           },
           "zerolinecolor": "white",
           "zerolinewidth": 2
          }
         }
        },
        "title": {
         "text": "Victim Race Distribution by Year"
        },
        "xaxis": {
         "anchor": "y",
         "domain": [
          0,
          1
         ],
         "gridcolor": "gray",
         "title": {
          "text": "Year"
         }
        },
        "yaxis": {
         "anchor": "x",
         "domain": [
          0,
          1
         ],
         "gridcolor": "gray",
         "title": {
          "text": "Number of Incidents"
         }
        }
       }
      }
     },
     "metadata": {},
     "output_type": "display_data"
    }
   ],
   "source": [
    "discrete_colorscale = [\n",
    "    'rgb(143,188,143)',  # Sea green\n",
    "    'rgb(119,136,153)',  # Light slate gray\n",
    "    'rgb(192,192,192)',  # Silver\n",
    "    'rgb(47,79,79)',     # Dark slate gray\n",
    "    'rgb(105,105,105)',  # Dim gray\n",
    "    'rgb(255,165,0)'     # Orange for emphasis\n",
    "]\n",
    "\n",
    "# Replace 'nan' and any other identifier for unknown data with 'UNKNOWN'\n",
    "cleaned_data['VIC_RACE'] = cleaned_data['VIC_RACE'].fillna('UNKNOWN').replace(['', ' ', 'N/A'], 'UNKNOWN')\n",
    "\n",
    "# Group by year and victim race, count the occurrences\n",
    "vic_race_yearly = cleaned_data.groupby(['YEAR', 'VIC_RACE']).size().unstack(fill_value=0)\n",
    "\n",
    "# Combine 'UNKNOWN' and any other nan categories into one\n",
    "vic_race_yearly['UNKNOWN'] = vic_race_yearly.get('UNKNOWN', 0) + vic_race_yearly.get('', 0)\n",
    "\n",
    "\n",
    "# Calculate total incidents per year\n",
    "total_incidents_per_year = vic_race_yearly.sum(axis=1)\n",
    "\n",
    "# Calculate percentages\n",
    "percentages = vic_race_yearly.divide(total_incidents_per_year, axis=0) * 100\n",
    "\n",
    "# Assuming 'vic_race_yearly' and 'percentages' are already calculated as per your previous code\n",
    "\n",
    "# Reset the index to turn 'YEAR' into a column and prepare data for plotting\n",
    "vic_race_yearly_reset = vic_race_yearly.reset_index()\n",
    "percentages_reset = percentages.reset_index()\n",
    "percentages_reset = percentages_reset.round(0)\n",
    "\n",
    "# Melt the data to long format, which Plotly can use to plot stacked area charts\n",
    "vic_race_yearly_melted = vic_race_yearly_reset.melt(id_vars='YEAR', var_name='Victim Race', value_name='Number of Incidents')\n",
    "percentages_melted = percentages_reset.melt(id_vars='YEAR', var_name='Victim Race', value_name='Percentage')\n",
    "\n",
    "# Merge the counts and percentages into a single DataFrame\n",
    "area_chart_data = vic_race_yearly_melted.merge(percentages_melted, on=['YEAR', 'Victim Race'])\n",
    "# Filter out 'UNKNOWN' from visualization, not from calculation\n",
    "area_chart_data = area_chart_data[area_chart_data['Victim Race'] != 'UNKNOWN']\n",
    "area_chart_data.sort_values(by=['YEAR', 'Percentage'], inplace=True)\n",
    "\n",
    "\n",
    "# Create a stacked area chart with hover data showing percentages\n",
    "# Assuming you know the races involved or you extract them from the DataFrame\n",
    "races = area_chart_data['Victim Race'].unique()\n",
    "color_map = {race: color for race, color in zip(races, discrete_colorscale)}\n",
    "\n",
    "# Apply the discrete color palette to the area chart\n",
    "fig_area = px.area(area_chart_data, x='YEAR', y='Number of Incidents', color='Victim Race',\n",
    "                   title=\"Victim Race Distribution by Year\",\n",
    "                   labels={'YEAR': 'Year', 'Number of Incidents': 'Number of Incidents', 'Victim Race': 'Victim Race'},\n",
    "                   hover_data={'Number of Incidents': True, 'Percentage': True},\n",
    "                   color_discrete_map=color_map)  # Using the color mapping\n",
    "\n",
    "# Update layout\n",
    "fig_area.update_layout(\n",
    "    xaxis=dict(\n",
    "        title='Year',\n",
    "        gridcolor='gray',\n",
    "    ),\n",
    "    yaxis=dict(\n",
    "        title='Number of Incidents',\n",
    "        gridcolor='gray',\n",
    "    ),\n",
    "    legend_title_text='Victim Race',\n",
    "    plot_bgcolor='black',  # Set the plotting area background to black\n",
    "    paper_bgcolor='black',  # Set the entire chart background to black\n",
    "    font=dict(\n",
    "        color='white'  # Ensure all default text (like legend, annotations) is white\n",
    "    )\n",
    ")\n",
    "\n",
    "fig_area.show()\n",
    "pio.write_html(fig, file='victim_race_distribution.html', auto_open=False)\n"
   ]
  },
  {
   "cell_type": "code",
   "execution_count": 40,
   "metadata": {},
   "outputs": [
    {
     "name": "stderr",
     "output_type": "stream",
     "text": [
      "/var/folders/tx/m38yq8k57gs15658kl2q0c600000gn/T/ipykernel_55239/967065366.py:15: FutureWarning:\n",
      "\n",
      "Setting an item of incompatible dtype is deprecated and will raise an error in a future version of pandas. Value '0.3129251700680272' has dtype incompatible with int64, please explicitly cast to a compatible dtype first.\n",
      "\n",
      "/var/folders/tx/m38yq8k57gs15658kl2q0c600000gn/T/ipykernel_55239/967065366.py:15: FutureWarning:\n",
      "\n",
      "Setting an item of incompatible dtype is deprecated and will raise an error in a future version of pandas. Value '0.35374149659863946' has dtype incompatible with int64, please explicitly cast to a compatible dtype first.\n",
      "\n",
      "/var/folders/tx/m38yq8k57gs15658kl2q0c600000gn/T/ipykernel_55239/967065366.py:15: FutureWarning:\n",
      "\n",
      "Setting an item of incompatible dtype is deprecated and will raise an error in a future version of pandas. Value '0.08843537414965986' has dtype incompatible with int64, please explicitly cast to a compatible dtype first.\n",
      "\n",
      "/var/folders/tx/m38yq8k57gs15658kl2q0c600000gn/T/ipykernel_55239/967065366.py:15: FutureWarning:\n",
      "\n",
      "Setting an item of incompatible dtype is deprecated and will raise an error in a future version of pandas. Value '0.08163265306122448' has dtype incompatible with int64, please explicitly cast to a compatible dtype first.\n",
      "\n",
      "/var/folders/tx/m38yq8k57gs15658kl2q0c600000gn/T/ipykernel_55239/967065366.py:15: FutureWarning:\n",
      "\n",
      "Setting an item of incompatible dtype is deprecated and will raise an error in a future version of pandas. Value '0.16326530612244897' has dtype incompatible with int64, please explicitly cast to a compatible dtype first.\n",
      "\n"
     ]
    },
    {
     "data": {
      "application/vnd.plotly.v1+json": {
       "config": {
        "plotlyServerURL": "https://plot.ly"
       },
       "data": [
        {
         "coloraxis": "coloraxis",
         "hovertemplate": "Victim Race: %{x}<br>Perpetrator Race: %{y}<br>Incident Count: %{z}<extra></extra>",
         "name": "0",
         "type": "heatmap",
         "x": [
          "ASIAN / PACIFIC ISLANDER",
          "BLACK",
          "BLACK HISPANIC",
          "WHITE",
          "WHITE HISPANIC"
         ],
         "xaxis": "x",
         "y": [
          "ASIAN / PACIFIC ISLANDER",
          "BLACK",
          "BLACK HISPANIC",
          "WHITE",
          "WHITE HISPANIC"
         ],
         "yaxis": "y",
         "z": [
          [
           31.29,
           35.37,
           8.84,
           8.16,
           16.33
          ],
          [
           1.3,
           79.6,
           7.02,
           1.72,
           10.36
          ],
          [
           1.45,
           40.24,
           26.85,
           2.82,
           28.63
          ],
          [
           4.03,
           12.45,
           7.69,
           57.14,
           18.68
          ],
          [
           1.62,
           33.99,
           17.33,
           4.27,
           42.79
          ]
         ]
        }
       ],
       "layout": {
        "coloraxis": {
         "colorbar": {
          "title": {
           "side": "top",
           "text": ""
          }
         },
         "colorscale": [
          [
           0,
           "rgb(220,220,220)"
          ],
          [
           1,
           "rgb(0,0,0)"
          ]
         ]
        },
        "font": {
         "color": "white"
        },
        "paper_bgcolor": "black",
        "plot_bgcolor": "black",
        "template": {
         "data": {
          "bar": [
           {
            "error_x": {
             "color": "#2a3f5f"
            },
            "error_y": {
             "color": "#2a3f5f"
            },
            "marker": {
             "line": {
              "color": "#E5ECF6",
              "width": 0.5
             },
             "pattern": {
              "fillmode": "overlay",
              "size": 10,
              "solidity": 0.2
             }
            },
            "type": "bar"
           }
          ],
          "barpolar": [
           {
            "marker": {
             "line": {
              "color": "#E5ECF6",
              "width": 0.5
             },
             "pattern": {
              "fillmode": "overlay",
              "size": 10,
              "solidity": 0.2
             }
            },
            "type": "barpolar"
           }
          ],
          "carpet": [
           {
            "aaxis": {
             "endlinecolor": "#2a3f5f",
             "gridcolor": "white",
             "linecolor": "white",
             "minorgridcolor": "white",
             "startlinecolor": "#2a3f5f"
            },
            "baxis": {
             "endlinecolor": "#2a3f5f",
             "gridcolor": "white",
             "linecolor": "white",
             "minorgridcolor": "white",
             "startlinecolor": "#2a3f5f"
            },
            "type": "carpet"
           }
          ],
          "choropleth": [
           {
            "colorbar": {
             "outlinewidth": 0,
             "ticks": ""
            },
            "type": "choropleth"
           }
          ],
          "contour": [
           {
            "colorbar": {
             "outlinewidth": 0,
             "ticks": ""
            },
            "colorscale": [
             [
              0,
              "#0d0887"
             ],
             [
              0.1111111111111111,
              "#46039f"
             ],
             [
              0.2222222222222222,
              "#7201a8"
             ],
             [
              0.3333333333333333,
              "#9c179e"
             ],
             [
              0.4444444444444444,
              "#bd3786"
             ],
             [
              0.5555555555555556,
              "#d8576b"
             ],
             [
              0.6666666666666666,
              "#ed7953"
             ],
             [
              0.7777777777777778,
              "#fb9f3a"
             ],
             [
              0.8888888888888888,
              "#fdca26"
             ],
             [
              1,
              "#f0f921"
             ]
            ],
            "type": "contour"
           }
          ],
          "contourcarpet": [
           {
            "colorbar": {
             "outlinewidth": 0,
             "ticks": ""
            },
            "type": "contourcarpet"
           }
          ],
          "heatmap": [
           {
            "colorbar": {
             "outlinewidth": 0,
             "ticks": ""
            },
            "colorscale": [
             [
              0,
              "#0d0887"
             ],
             [
              0.1111111111111111,
              "#46039f"
             ],
             [
              0.2222222222222222,
              "#7201a8"
             ],
             [
              0.3333333333333333,
              "#9c179e"
             ],
             [
              0.4444444444444444,
              "#bd3786"
             ],
             [
              0.5555555555555556,
              "#d8576b"
             ],
             [
              0.6666666666666666,
              "#ed7953"
             ],
             [
              0.7777777777777778,
              "#fb9f3a"
             ],
             [
              0.8888888888888888,
              "#fdca26"
             ],
             [
              1,
              "#f0f921"
             ]
            ],
            "type": "heatmap"
           }
          ],
          "heatmapgl": [
           {
            "colorbar": {
             "outlinewidth": 0,
             "ticks": ""
            },
            "colorscale": [
             [
              0,
              "#0d0887"
             ],
             [
              0.1111111111111111,
              "#46039f"
             ],
             [
              0.2222222222222222,
              "#7201a8"
             ],
             [
              0.3333333333333333,
              "#9c179e"
             ],
             [
              0.4444444444444444,
              "#bd3786"
             ],
             [
              0.5555555555555556,
              "#d8576b"
             ],
             [
              0.6666666666666666,
              "#ed7953"
             ],
             [
              0.7777777777777778,
              "#fb9f3a"
             ],
             [
              0.8888888888888888,
              "#fdca26"
             ],
             [
              1,
              "#f0f921"
             ]
            ],
            "type": "heatmapgl"
           }
          ],
          "histogram": [
           {
            "marker": {
             "pattern": {
              "fillmode": "overlay",
              "size": 10,
              "solidity": 0.2
             }
            },
            "type": "histogram"
           }
          ],
          "histogram2d": [
           {
            "colorbar": {
             "outlinewidth": 0,
             "ticks": ""
            },
            "colorscale": [
             [
              0,
              "#0d0887"
             ],
             [
              0.1111111111111111,
              "#46039f"
             ],
             [
              0.2222222222222222,
              "#7201a8"
             ],
             [
              0.3333333333333333,
              "#9c179e"
             ],
             [
              0.4444444444444444,
              "#bd3786"
             ],
             [
              0.5555555555555556,
              "#d8576b"
             ],
             [
              0.6666666666666666,
              "#ed7953"
             ],
             [
              0.7777777777777778,
              "#fb9f3a"
             ],
             [
              0.8888888888888888,
              "#fdca26"
             ],
             [
              1,
              "#f0f921"
             ]
            ],
            "type": "histogram2d"
           }
          ],
          "histogram2dcontour": [
           {
            "colorbar": {
             "outlinewidth": 0,
             "ticks": ""
            },
            "colorscale": [
             [
              0,
              "#0d0887"
             ],
             [
              0.1111111111111111,
              "#46039f"
             ],
             [
              0.2222222222222222,
              "#7201a8"
             ],
             [
              0.3333333333333333,
              "#9c179e"
             ],
             [
              0.4444444444444444,
              "#bd3786"
             ],
             [
              0.5555555555555556,
              "#d8576b"
             ],
             [
              0.6666666666666666,
              "#ed7953"
             ],
             [
              0.7777777777777778,
              "#fb9f3a"
             ],
             [
              0.8888888888888888,
              "#fdca26"
             ],
             [
              1,
              "#f0f921"
             ]
            ],
            "type": "histogram2dcontour"
           }
          ],
          "mesh3d": [
           {
            "colorbar": {
             "outlinewidth": 0,
             "ticks": ""
            },
            "type": "mesh3d"
           }
          ],
          "parcoords": [
           {
            "line": {
             "colorbar": {
              "outlinewidth": 0,
              "ticks": ""
             }
            },
            "type": "parcoords"
           }
          ],
          "pie": [
           {
            "automargin": true,
            "type": "pie"
           }
          ],
          "scatter": [
           {
            "fillpattern": {
             "fillmode": "overlay",
             "size": 10,
             "solidity": 0.2
            },
            "type": "scatter"
           }
          ],
          "scatter3d": [
           {
            "line": {
             "colorbar": {
              "outlinewidth": 0,
              "ticks": ""
             }
            },
            "marker": {
             "colorbar": {
              "outlinewidth": 0,
              "ticks": ""
             }
            },
            "type": "scatter3d"
           }
          ],
          "scattercarpet": [
           {
            "marker": {
             "colorbar": {
              "outlinewidth": 0,
              "ticks": ""
             }
            },
            "type": "scattercarpet"
           }
          ],
          "scattergeo": [
           {
            "marker": {
             "colorbar": {
              "outlinewidth": 0,
              "ticks": ""
             }
            },
            "type": "scattergeo"
           }
          ],
          "scattergl": [
           {
            "marker": {
             "colorbar": {
              "outlinewidth": 0,
              "ticks": ""
             }
            },
            "type": "scattergl"
           }
          ],
          "scattermapbox": [
           {
            "marker": {
             "colorbar": {
              "outlinewidth": 0,
              "ticks": ""
             }
            },
            "type": "scattermapbox"
           }
          ],
          "scatterpolar": [
           {
            "marker": {
             "colorbar": {
              "outlinewidth": 0,
              "ticks": ""
             }
            },
            "type": "scatterpolar"
           }
          ],
          "scatterpolargl": [
           {
            "marker": {
             "colorbar": {
              "outlinewidth": 0,
              "ticks": ""
             }
            },
            "type": "scatterpolargl"
           }
          ],
          "scatterternary": [
           {
            "marker": {
             "colorbar": {
              "outlinewidth": 0,
              "ticks": ""
             }
            },
            "type": "scatterternary"
           }
          ],
          "surface": [
           {
            "colorbar": {
             "outlinewidth": 0,
             "ticks": ""
            },
            "colorscale": [
             [
              0,
              "#0d0887"
             ],
             [
              0.1111111111111111,
              "#46039f"
             ],
             [
              0.2222222222222222,
              "#7201a8"
             ],
             [
              0.3333333333333333,
              "#9c179e"
             ],
             [
              0.4444444444444444,
              "#bd3786"
             ],
             [
              0.5555555555555556,
              "#d8576b"
             ],
             [
              0.6666666666666666,
              "#ed7953"
             ],
             [
              0.7777777777777778,
              "#fb9f3a"
             ],
             [
              0.8888888888888888,
              "#fdca26"
             ],
             [
              1,
              "#f0f921"
             ]
            ],
            "type": "surface"
           }
          ],
          "table": [
           {
            "cells": {
             "fill": {
              "color": "#EBF0F8"
             },
             "line": {
              "color": "white"
             }
            },
            "header": {
             "fill": {
              "color": "#C8D4E3"
             },
             "line": {
              "color": "white"
             }
            },
            "type": "table"
           }
          ]
         },
         "layout": {
          "annotationdefaults": {
           "arrowcolor": "#2a3f5f",
           "arrowhead": 0,
           "arrowwidth": 1
          },
          "autotypenumbers": "strict",
          "coloraxis": {
           "colorbar": {
            "outlinewidth": 0,
            "ticks": ""
           }
          },
          "colorscale": {
           "diverging": [
            [
             0,
             "#8e0152"
            ],
            [
             0.1,
             "#c51b7d"
            ],
            [
             0.2,
             "#de77ae"
            ],
            [
             0.3,
             "#f1b6da"
            ],
            [
             0.4,
             "#fde0ef"
            ],
            [
             0.5,
             "#f7f7f7"
            ],
            [
             0.6,
             "#e6f5d0"
            ],
            [
             0.7,
             "#b8e186"
            ],
            [
             0.8,
             "#7fbc41"
            ],
            [
             0.9,
             "#4d9221"
            ],
            [
             1,
             "#276419"
            ]
           ],
           "sequential": [
            [
             0,
             "#0d0887"
            ],
            [
             0.1111111111111111,
             "#46039f"
            ],
            [
             0.2222222222222222,
             "#7201a8"
            ],
            [
             0.3333333333333333,
             "#9c179e"
            ],
            [
             0.4444444444444444,
             "#bd3786"
            ],
            [
             0.5555555555555556,
             "#d8576b"
            ],
            [
             0.6666666666666666,
             "#ed7953"
            ],
            [
             0.7777777777777778,
             "#fb9f3a"
            ],
            [
             0.8888888888888888,
             "#fdca26"
            ],
            [
             1,
             "#f0f921"
            ]
           ],
           "sequentialminus": [
            [
             0,
             "#0d0887"
            ],
            [
             0.1111111111111111,
             "#46039f"
            ],
            [
             0.2222222222222222,
             "#7201a8"
            ],
            [
             0.3333333333333333,
             "#9c179e"
            ],
            [
             0.4444444444444444,
             "#bd3786"
            ],
            [
             0.5555555555555556,
             "#d8576b"
            ],
            [
             0.6666666666666666,
             "#ed7953"
            ],
            [
             0.7777777777777778,
             "#fb9f3a"
            ],
            [
             0.8888888888888888,
             "#fdca26"
            ],
            [
             1,
             "#f0f921"
            ]
           ]
          },
          "colorway": [
           "#636efa",
           "#EF553B",
           "#00cc96",
           "#ab63fa",
           "#FFA15A",
           "#19d3f3",
           "#FF6692",
           "#B6E880",
           "#FF97FF",
           "#FECB52"
          ],
          "font": {
           "color": "#2a3f5f"
          },
          "geo": {
           "bgcolor": "white",
           "lakecolor": "white",
           "landcolor": "#E5ECF6",
           "showlakes": true,
           "showland": true,
           "subunitcolor": "white"
          },
          "hoverlabel": {
           "align": "left"
          },
          "hovermode": "closest",
          "mapbox": {
           "style": "light"
          },
          "paper_bgcolor": "white",
          "plot_bgcolor": "#E5ECF6",
          "polar": {
           "angularaxis": {
            "gridcolor": "white",
            "linecolor": "white",
            "ticks": ""
           },
           "bgcolor": "#E5ECF6",
           "radialaxis": {
            "gridcolor": "white",
            "linecolor": "white",
            "ticks": ""
           }
          },
          "scene": {
           "xaxis": {
            "backgroundcolor": "#E5ECF6",
            "gridcolor": "white",
            "gridwidth": 2,
            "linecolor": "white",
            "showbackground": true,
            "ticks": "",
            "zerolinecolor": "white"
           },
           "yaxis": {
            "backgroundcolor": "#E5ECF6",
            "gridcolor": "white",
            "gridwidth": 2,
            "linecolor": "white",
            "showbackground": true,
            "ticks": "",
            "zerolinecolor": "white"
           },
           "zaxis": {
            "backgroundcolor": "#E5ECF6",
            "gridcolor": "white",
            "gridwidth": 2,
            "linecolor": "white",
            "showbackground": true,
            "ticks": "",
            "zerolinecolor": "white"
           }
          },
          "shapedefaults": {
           "line": {
            "color": "#2a3f5f"
           }
          },
          "ternary": {
           "aaxis": {
            "gridcolor": "white",
            "linecolor": "white",
            "ticks": ""
           },
           "baxis": {
            "gridcolor": "white",
            "linecolor": "white",
            "ticks": ""
           },
           "bgcolor": "#E5ECF6",
           "caxis": {
            "gridcolor": "white",
            "linecolor": "white",
            "ticks": ""
           }
          },
          "title": {
           "x": 0.05
          },
          "xaxis": {
           "automargin": true,
           "gridcolor": "white",
           "linecolor": "white",
           "ticks": "",
           "title": {
            "standoff": 15
           },
           "zerolinecolor": "white",
           "zerolinewidth": 2
          },
          "yaxis": {
           "automargin": true,
           "gridcolor": "white",
           "linecolor": "white",
           "ticks": "",
           "title": {
            "standoff": 15
           },
           "zerolinecolor": "white",
           "zerolinewidth": 2
          }
         }
        },
        "title": {
         "text": "Heatmap of Race-on-Race Crime Percentages"
        },
        "xaxis": {
         "anchor": "y",
         "domain": [
          0,
          1
         ],
         "side": "bottom",
         "tickmode": "array",
         "ticktext": [
          "ASIAN / PACIFIC ISLANDER",
          "BLACK",
          "BLACK HISPANIC",
          "WHITE",
          "WHITE HISPANIC"
         ],
         "tickvals": [
          0,
          1,
          2,
          3,
          4
         ],
         "title": {
          "text": "Victim Race"
         }
        },
        "yaxis": {
         "anchor": "x",
         "autorange": "reversed",
         "domain": [
          0,
          1
         ],
         "tickmode": "array",
         "ticktext": [
          "ASIAN / PACIFIC ISLANDER",
          "BLACK",
          "BLACK HISPANIC",
          "WHITE",
          "WHITE HISPANIC"
         ],
         "tickvals": [
          0,
          1,
          2,
          3,
          4
         ],
         "title": {
          "text": "Perpetrator Race"
         }
        }
       }
      }
     },
     "metadata": {},
     "output_type": "display_data"
    }
   ],
   "source": [
    "# Filter out unknown and nan races for perpetrators and victims\n",
    "filtered_data = cleaned_data[\n",
    "    (cleaned_data['PERP_RACE'].notna()) & (cleaned_data['PERP_RACE'] != 'UNKNOWN') &\n",
    "    (cleaned_data['VIC_RACE'].notna()) & (cleaned_data['VIC_RACE'] != 'UNKNOWN') &\n",
    "    (cleaned_data['VIC_RACE'] != 'AMERICAN INDIAN/ALASKAN NATIVE') &\n",
    "    (cleaned_data['PERP_RACE'] != 'AMERICAN INDIAN/ALASKAN NATIVE')\n",
    "]\n",
    "\n",
    "# Create a crosstab of perpetrator and victim races\n",
    "# Ensure PERP_RACE are rows and VIC_RACE are columns\n",
    "race_on_race = pd.crosstab(filtered_data['PERP_RACE'], filtered_data['VIC_RACE'])\n",
    "\n",
    "for i in range(0,5):\n",
    "    s = race_on_race.iloc[i].sum(axis=0)\n",
    "    race_on_race.iloc[i] = race_on_race.iloc[i]/s\n",
    "    race_on_race.iloc[i] = (race_on_race.iloc[i] * 100).round(2)\n",
    "\n",
    "\n",
    "# Plotting a density heatmap using the grayscale color scale\n",
    "fig = px.imshow(\n",
    "    race_on_race,\n",
    "    labels=dict(x=\"Victim Race\", y=\"Perpetrator Race\", color=\"Incident Count\"),\n",
    "    title='Heatmap of Race-on-Race Crime Percentages',\n",
    "    aspect='auto',  # Adjust the aspect ratio to auto if needed\n",
    "    color_continuous_scale=continuous_colorscale  # Apply the continuous color scale\n",
    ")\n",
    "\n",
    "# Ensure axes labels are correct and on the appropriate side\n",
    "fig.update_xaxes(side=\"bottom\", tickmode='array', tickvals=list(range(len(race_on_race.columns))), ticktext=race_on_race.columns)\n",
    "fig.update_yaxes(tickmode='array', tickvals=list(range(len(race_on_race.index))), ticktext=race_on_race.index)\n",
    "\n",
    "# Optionally, you can add a color axis title\n",
    "fig.update_layout(coloraxis_colorbar=dict(\n",
    "    title=\"\",  # Adding two line breaks for spacing\n",
    "    titleside=\"top\"\n",
    "    ),\n",
    "    plot_bgcolor='black',  # Set the plotting area background to black\n",
    "    paper_bgcolor='black',  # Set the entire chart background to black\n",
    "    font=dict(\n",
    "        color='white'  # Ensure all default text (like legend, annotations) is white\n",
    "    )\n",
    "    \n",
    "    )\n",
    "fig.show()\n",
    "pio.write_html(fig, file='confusion_matrix_interracial_shootings.html', auto_open=False)\n"
   ]
  },
  {
   "cell_type": "markdown",
   "metadata": {},
   "source": [
    "To understand the significant spike in incidents during this period, we investigated further to uncover potential causes. We discovered that in May 2020, George Floyd was tragically killed by the police, triggering widespread protests across the United States. We believe these events, combined with the COVID-19 pandemic, significantly contributed to the increase in shootings, as crime rates rose across the board during this period. Additionally, it was a challenging time as it marked the beginning of the lockdowns.. To delve deeper, we examined the NYC_layoff_interest.csv dataset to see if there was any correlation between layoffs and the spike in incidents. While it's not the only factor, we noticed a clear upward trend from February to a peak in May, suggesting a combination of factors, including social unrest and economic stress from mass layoffs, may have contributed to this surge."
   ]
  },
  {
   "cell_type": "code",
   "execution_count": 41,
   "metadata": {},
   "outputs": [
    {
     "data": {
      "application/vnd.plotly.v1+json": {
       "config": {
        "plotlyServerURL": "https://plot.ly"
       },
       "data": [
        {
         "hovertemplate": "Month=%{x}<br>Layoffs Interest=%{y}<extra></extra>",
         "legendgroup": "",
         "line": {
          "color": "green",
          "dash": "solid"
         },
         "marker": {
          "symbol": "circle"
         },
         "mode": "lines",
         "name": "",
         "orientation": "v",
         "showlegend": false,
         "type": "scatter",
         "x": [
          1,
          2,
          3,
          4,
          5,
          6,
          7,
          8,
          9,
          10,
          11,
          12
         ],
         "xaxis": "x",
         "y": [
          31.28205128205128,
          37.43589743589744,
          84.35897435897436,
          85.38461538461539,
          100,
          61.53846153846154,
          58.97435897435897,
          99.48717948717949,
          62.05128205128205,
          41.282051282051285,
          42.30769230769231,
          24.871794871794872
         ],
         "yaxis": "y"
        }
       ],
       "layout": {
        "font": {
         "color": "white"
        },
        "legend": {
         "tracegroupgap": 0
        },
        "paper_bgcolor": "black",
        "plot_bgcolor": "black",
        "template": {
         "data": {
          "bar": [
           {
            "error_x": {
             "color": "#2a3f5f"
            },
            "error_y": {
             "color": "#2a3f5f"
            },
            "marker": {
             "line": {
              "color": "#E5ECF6",
              "width": 0.5
             },
             "pattern": {
              "fillmode": "overlay",
              "size": 10,
              "solidity": 0.2
             }
            },
            "type": "bar"
           }
          ],
          "barpolar": [
           {
            "marker": {
             "line": {
              "color": "#E5ECF6",
              "width": 0.5
             },
             "pattern": {
              "fillmode": "overlay",
              "size": 10,
              "solidity": 0.2
             }
            },
            "type": "barpolar"
           }
          ],
          "carpet": [
           {
            "aaxis": {
             "endlinecolor": "#2a3f5f",
             "gridcolor": "white",
             "linecolor": "white",
             "minorgridcolor": "white",
             "startlinecolor": "#2a3f5f"
            },
            "baxis": {
             "endlinecolor": "#2a3f5f",
             "gridcolor": "white",
             "linecolor": "white",
             "minorgridcolor": "white",
             "startlinecolor": "#2a3f5f"
            },
            "type": "carpet"
           }
          ],
          "choropleth": [
           {
            "colorbar": {
             "outlinewidth": 0,
             "ticks": ""
            },
            "type": "choropleth"
           }
          ],
          "contour": [
           {
            "colorbar": {
             "outlinewidth": 0,
             "ticks": ""
            },
            "colorscale": [
             [
              0,
              "#0d0887"
             ],
             [
              0.1111111111111111,
              "#46039f"
             ],
             [
              0.2222222222222222,
              "#7201a8"
             ],
             [
              0.3333333333333333,
              "#9c179e"
             ],
             [
              0.4444444444444444,
              "#bd3786"
             ],
             [
              0.5555555555555556,
              "#d8576b"
             ],
             [
              0.6666666666666666,
              "#ed7953"
             ],
             [
              0.7777777777777778,
              "#fb9f3a"
             ],
             [
              0.8888888888888888,
              "#fdca26"
             ],
             [
              1,
              "#f0f921"
             ]
            ],
            "type": "contour"
           }
          ],
          "contourcarpet": [
           {
            "colorbar": {
             "outlinewidth": 0,
             "ticks": ""
            },
            "type": "contourcarpet"
           }
          ],
          "heatmap": [
           {
            "colorbar": {
             "outlinewidth": 0,
             "ticks": ""
            },
            "colorscale": [
             [
              0,
              "#0d0887"
             ],
             [
              0.1111111111111111,
              "#46039f"
             ],
             [
              0.2222222222222222,
              "#7201a8"
             ],
             [
              0.3333333333333333,
              "#9c179e"
             ],
             [
              0.4444444444444444,
              "#bd3786"
             ],
             [
              0.5555555555555556,
              "#d8576b"
             ],
             [
              0.6666666666666666,
              "#ed7953"
             ],
             [
              0.7777777777777778,
              "#fb9f3a"
             ],
             [
              0.8888888888888888,
              "#fdca26"
             ],
             [
              1,
              "#f0f921"
             ]
            ],
            "type": "heatmap"
           }
          ],
          "heatmapgl": [
           {
            "colorbar": {
             "outlinewidth": 0,
             "ticks": ""
            },
            "colorscale": [
             [
              0,
              "#0d0887"
             ],
             [
              0.1111111111111111,
              "#46039f"
             ],
             [
              0.2222222222222222,
              "#7201a8"
             ],
             [
              0.3333333333333333,
              "#9c179e"
             ],
             [
              0.4444444444444444,
              "#bd3786"
             ],
             [
              0.5555555555555556,
              "#d8576b"
             ],
             [
              0.6666666666666666,
              "#ed7953"
             ],
             [
              0.7777777777777778,
              "#fb9f3a"
             ],
             [
              0.8888888888888888,
              "#fdca26"
             ],
             [
              1,
              "#f0f921"
             ]
            ],
            "type": "heatmapgl"
           }
          ],
          "histogram": [
           {
            "marker": {
             "pattern": {
              "fillmode": "overlay",
              "size": 10,
              "solidity": 0.2
             }
            },
            "type": "histogram"
           }
          ],
          "histogram2d": [
           {
            "colorbar": {
             "outlinewidth": 0,
             "ticks": ""
            },
            "colorscale": [
             [
              0,
              "#0d0887"
             ],
             [
              0.1111111111111111,
              "#46039f"
             ],
             [
              0.2222222222222222,
              "#7201a8"
             ],
             [
              0.3333333333333333,
              "#9c179e"
             ],
             [
              0.4444444444444444,
              "#bd3786"
             ],
             [
              0.5555555555555556,
              "#d8576b"
             ],
             [
              0.6666666666666666,
              "#ed7953"
             ],
             [
              0.7777777777777778,
              "#fb9f3a"
             ],
             [
              0.8888888888888888,
              "#fdca26"
             ],
             [
              1,
              "#f0f921"
             ]
            ],
            "type": "histogram2d"
           }
          ],
          "histogram2dcontour": [
           {
            "colorbar": {
             "outlinewidth": 0,
             "ticks": ""
            },
            "colorscale": [
             [
              0,
              "#0d0887"
             ],
             [
              0.1111111111111111,
              "#46039f"
             ],
             [
              0.2222222222222222,
              "#7201a8"
             ],
             [
              0.3333333333333333,
              "#9c179e"
             ],
             [
              0.4444444444444444,
              "#bd3786"
             ],
             [
              0.5555555555555556,
              "#d8576b"
             ],
             [
              0.6666666666666666,
              "#ed7953"
             ],
             [
              0.7777777777777778,
              "#fb9f3a"
             ],
             [
              0.8888888888888888,
              "#fdca26"
             ],
             [
              1,
              "#f0f921"
             ]
            ],
            "type": "histogram2dcontour"
           }
          ],
          "mesh3d": [
           {
            "colorbar": {
             "outlinewidth": 0,
             "ticks": ""
            },
            "type": "mesh3d"
           }
          ],
          "parcoords": [
           {
            "line": {
             "colorbar": {
              "outlinewidth": 0,
              "ticks": ""
             }
            },
            "type": "parcoords"
           }
          ],
          "pie": [
           {
            "automargin": true,
            "type": "pie"
           }
          ],
          "scatter": [
           {
            "fillpattern": {
             "fillmode": "overlay",
             "size": 10,
             "solidity": 0.2
            },
            "type": "scatter"
           }
          ],
          "scatter3d": [
           {
            "line": {
             "colorbar": {
              "outlinewidth": 0,
              "ticks": ""
             }
            },
            "marker": {
             "colorbar": {
              "outlinewidth": 0,
              "ticks": ""
             }
            },
            "type": "scatter3d"
           }
          ],
          "scattercarpet": [
           {
            "marker": {
             "colorbar": {
              "outlinewidth": 0,
              "ticks": ""
             }
            },
            "type": "scattercarpet"
           }
          ],
          "scattergeo": [
           {
            "marker": {
             "colorbar": {
              "outlinewidth": 0,
              "ticks": ""
             }
            },
            "type": "scattergeo"
           }
          ],
          "scattergl": [
           {
            "marker": {
             "colorbar": {
              "outlinewidth": 0,
              "ticks": ""
             }
            },
            "type": "scattergl"
           }
          ],
          "scattermapbox": [
           {
            "marker": {
             "colorbar": {
              "outlinewidth": 0,
              "ticks": ""
             }
            },
            "type": "scattermapbox"
           }
          ],
          "scatterpolar": [
           {
            "marker": {
             "colorbar": {
              "outlinewidth": 0,
              "ticks": ""
             }
            },
            "type": "scatterpolar"
           }
          ],
          "scatterpolargl": [
           {
            "marker": {
             "colorbar": {
              "outlinewidth": 0,
              "ticks": ""
             }
            },
            "type": "scatterpolargl"
           }
          ],
          "scatterternary": [
           {
            "marker": {
             "colorbar": {
              "outlinewidth": 0,
              "ticks": ""
             }
            },
            "type": "scatterternary"
           }
          ],
          "surface": [
           {
            "colorbar": {
             "outlinewidth": 0,
             "ticks": ""
            },
            "colorscale": [
             [
              0,
              "#0d0887"
             ],
             [
              0.1111111111111111,
              "#46039f"
             ],
             [
              0.2222222222222222,
              "#7201a8"
             ],
             [
              0.3333333333333333,
              "#9c179e"
             ],
             [
              0.4444444444444444,
              "#bd3786"
             ],
             [
              0.5555555555555556,
              "#d8576b"
             ],
             [
              0.6666666666666666,
              "#ed7953"
             ],
             [
              0.7777777777777778,
              "#fb9f3a"
             ],
             [
              0.8888888888888888,
              "#fdca26"
             ],
             [
              1,
              "#f0f921"
             ]
            ],
            "type": "surface"
           }
          ],
          "table": [
           {
            "cells": {
             "fill": {
              "color": "#EBF0F8"
             },
             "line": {
              "color": "white"
             }
            },
            "header": {
             "fill": {
              "color": "#C8D4E3"
             },
             "line": {
              "color": "white"
             }
            },
            "type": "table"
           }
          ]
         },
         "layout": {
          "annotationdefaults": {
           "arrowcolor": "#2a3f5f",
           "arrowhead": 0,
           "arrowwidth": 1
          },
          "autotypenumbers": "strict",
          "coloraxis": {
           "colorbar": {
            "outlinewidth": 0,
            "ticks": ""
           }
          },
          "colorscale": {
           "diverging": [
            [
             0,
             "#8e0152"
            ],
            [
             0.1,
             "#c51b7d"
            ],
            [
             0.2,
             "#de77ae"
            ],
            [
             0.3,
             "#f1b6da"
            ],
            [
             0.4,
             "#fde0ef"
            ],
            [
             0.5,
             "#f7f7f7"
            ],
            [
             0.6,
             "#e6f5d0"
            ],
            [
             0.7,
             "#b8e186"
            ],
            [
             0.8,
             "#7fbc41"
            ],
            [
             0.9,
             "#4d9221"
            ],
            [
             1,
             "#276419"
            ]
           ],
           "sequential": [
            [
             0,
             "#0d0887"
            ],
            [
             0.1111111111111111,
             "#46039f"
            ],
            [
             0.2222222222222222,
             "#7201a8"
            ],
            [
             0.3333333333333333,
             "#9c179e"
            ],
            [
             0.4444444444444444,
             "#bd3786"
            ],
            [
             0.5555555555555556,
             "#d8576b"
            ],
            [
             0.6666666666666666,
             "#ed7953"
            ],
            [
             0.7777777777777778,
             "#fb9f3a"
            ],
            [
             0.8888888888888888,
             "#fdca26"
            ],
            [
             1,
             "#f0f921"
            ]
           ],
           "sequentialminus": [
            [
             0,
             "#0d0887"
            ],
            [
             0.1111111111111111,
             "#46039f"
            ],
            [
             0.2222222222222222,
             "#7201a8"
            ],
            [
             0.3333333333333333,
             "#9c179e"
            ],
            [
             0.4444444444444444,
             "#bd3786"
            ],
            [
             0.5555555555555556,
             "#d8576b"
            ],
            [
             0.6666666666666666,
             "#ed7953"
            ],
            [
             0.7777777777777778,
             "#fb9f3a"
            ],
            [
             0.8888888888888888,
             "#fdca26"
            ],
            [
             1,
             "#f0f921"
            ]
           ]
          },
          "colorway": [
           "#636efa",
           "#EF553B",
           "#00cc96",
           "#ab63fa",
           "#FFA15A",
           "#19d3f3",
           "#FF6692",
           "#B6E880",
           "#FF97FF",
           "#FECB52"
          ],
          "font": {
           "color": "#2a3f5f"
          },
          "geo": {
           "bgcolor": "white",
           "lakecolor": "white",
           "landcolor": "#E5ECF6",
           "showlakes": true,
           "showland": true,
           "subunitcolor": "white"
          },
          "hoverlabel": {
           "align": "left"
          },
          "hovermode": "closest",
          "mapbox": {
           "style": "light"
          },
          "paper_bgcolor": "white",
          "plot_bgcolor": "#E5ECF6",
          "polar": {
           "angularaxis": {
            "gridcolor": "white",
            "linecolor": "white",
            "ticks": ""
           },
           "bgcolor": "#E5ECF6",
           "radialaxis": {
            "gridcolor": "white",
            "linecolor": "white",
            "ticks": ""
           }
          },
          "scene": {
           "xaxis": {
            "backgroundcolor": "#E5ECF6",
            "gridcolor": "white",
            "gridwidth": 2,
            "linecolor": "white",
            "showbackground": true,
            "ticks": "",
            "zerolinecolor": "white"
           },
           "yaxis": {
            "backgroundcolor": "#E5ECF6",
            "gridcolor": "white",
            "gridwidth": 2,
            "linecolor": "white",
            "showbackground": true,
            "ticks": "",
            "zerolinecolor": "white"
           },
           "zaxis": {
            "backgroundcolor": "#E5ECF6",
            "gridcolor": "white",
            "gridwidth": 2,
            "linecolor": "white",
            "showbackground": true,
            "ticks": "",
            "zerolinecolor": "white"
           }
          },
          "shapedefaults": {
           "line": {
            "color": "#2a3f5f"
           }
          },
          "ternary": {
           "aaxis": {
            "gridcolor": "white",
            "linecolor": "white",
            "ticks": ""
           },
           "baxis": {
            "gridcolor": "white",
            "linecolor": "white",
            "ticks": ""
           },
           "bgcolor": "#E5ECF6",
           "caxis": {
            "gridcolor": "white",
            "linecolor": "white",
            "ticks": ""
           }
          },
          "title": {
           "x": 0.05
          },
          "xaxis": {
           "automargin": true,
           "gridcolor": "white",
           "linecolor": "white",
           "ticks": "",
           "title": {
            "standoff": 15
           },
           "zerolinecolor": "white",
           "zerolinewidth": 2
          },
          "yaxis": {
           "automargin": true,
           "gridcolor": "white",
           "linecolor": "white",
           "ticks": "",
           "title": {
            "standoff": 15
           },
           "zerolinecolor": "white",
           "zerolinewidth": 2
          }
         }
        },
        "title": {
         "text": "Monthly Layoff Interest in New York for 2020"
        },
        "xaxis": {
         "anchor": "y",
         "domain": [
          0,
          1
         ],
         "gridcolor": "gray",
         "tickmode": "array",
         "ticktext": [
          "Jan",
          "Feb",
          "Mar",
          "Apr",
          "May",
          "Jun",
          "Jul",
          "Aug",
          "Sep",
          "Oct",
          "Nov",
          "Dec"
         ],
         "tickvals": [
          1,
          2,
          3,
          4,
          5,
          6,
          7,
          8,
          9,
          10,
          11,
          12
         ],
         "title": {
          "text": "Month"
         }
        },
        "yaxis": {
         "anchor": "x",
         "domain": [
          0,
          1
         ],
         "gridcolor": "gray",
         "title": {
          "text": "Layoffs"
         }
        }
       }
      }
     },
     "metadata": {},
     "output_type": "display_data"
    }
   ],
   "source": [
    "layoffs = pd.read_csv(\"NYC_layoff_interest.csv\")\n",
    "# Ensure the 'Week' column is datetime type\n",
    "layoffs['Week'] = pd.to_datetime(layoffs['Week'])\n",
    "\n",
    "# Extract the month from the 'Week' column\n",
    "layoffs['Month'] = layoffs['Week'].dt.month\n",
    "\n",
    "monthly_layoffs = layoffs.groupby('Month')['Layoff Google Searches in New York'].sum().reset_index()\n",
    "\n",
    "max_val = monthly_layoffs['Layoff Google Searches in New York'].max()\n",
    "monthly_layoffs['Layoff Google Interest in New York for 2020'] = monthly_layoffs['Layoff Google Searches in New York'] * 100/max_val\n",
    "\n",
    "\n",
    "# Create the line graph with Plotly Express\n",
    "fig = px.line(\n",
    "    monthly_layoffs, \n",
    "    x='Month', \n",
    "    y='Layoff Google Interest in New York for 2020', \n",
    "    title='Monthly Layoff Interest in New York for 2020',\n",
    "    labels={'Month': 'Month', 'Layoff Google Interest in New York for 2020': 'Layoffs Interest'},\n",
    "    color_discrete_sequence=['green']\n",
    ")\n",
    "\n",
    "# Add layout customization\n",
    "fig.update_layout(\n",
    "    xaxis=dict(\n",
    "        title='Month',\n",
    "        tickmode='array',\n",
    "        tickvals=list(range(1, 13)),\n",
    "        ticktext=['Jan', 'Feb', 'Mar', 'Apr', 'May', 'Jun', 'Jul', 'Aug', 'Sep', 'Oct', 'Nov', 'Dec'],\n",
    "         gridcolor='gray',\n",
    "    ),\n",
    "    yaxis=dict(\n",
    "        title='Layoffs',\n",
    "        gridcolor='gray',\n",
    "    ),\n",
    "    plot_bgcolor='black',  # Set the plotting area background to black\n",
    "    paper_bgcolor='black',  # Set the entire chart background to black\n",
    "    font=dict(\n",
    "        color='white'  # Ensure all default text (like legend, annotations) is white\n",
    "    )\n",
    ")\n",
    "\n",
    "fig.show()\n",
    "pio.write_html(fig, file='monthly_layoffs.html', auto_open=False)\n",
    "\n"
   ]
  },
  {
   "cell_type": "markdown",
   "metadata": {},
   "source": []
  }
 ],
 "metadata": {
  "kernelspec": {
   "display_name": "Advanced_ml",
   "language": "python",
   "name": "python3"
  },
  "language_info": {
   "codemirror_mode": {
    "name": "ipython",
    "version": 3
   },
   "file_extension": ".py",
   "mimetype": "text/x-python",
   "name": "python",
   "nbconvert_exporter": "python",
   "pygments_lexer": "ipython3",
   "version": "3.11.7"
  }
 },
 "nbformat": 4,
 "nbformat_minor": 2
}
